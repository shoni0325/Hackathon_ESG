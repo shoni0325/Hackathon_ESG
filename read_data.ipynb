{
 "cells": [
  {
   "cell_type": "code",
   "execution_count": 3,
   "metadata": {},
   "outputs": [],
   "source": [
    "import pandas as pd"
   ]
  },
  {
   "cell_type": "code",
   "execution_count": 2,
   "metadata": {},
   "outputs": [],
   "source": [
    "df=pd.read_excel('./ESG_excel/2011.xlsx')"
   ]
  },
  {
   "cell_type": "code",
   "execution_count": 3,
   "metadata": {},
   "outputs": [],
   "source": [
    "df.columns=['종목명','ESG 통합등급','2011_E','2011_S','2011_G','평가연도']\n",
    "df_2011=df.iloc[4:,:].reset_index(drop=True)\n",
    "df_2011.sort_values(\"종목명\",inplace=True)\n",
    "#df_2011.to_csv(\"2011.csv\",index=False,encoding='euc-kr')"
   ]
  },
  {
   "cell_type": "code",
   "execution_count": 14,
   "metadata": {},
   "outputs": [
    {
     "data": {
      "text/html": [
       "<div>\n",
       "<style scoped>\n",
       "    .dataframe tbody tr th:only-of-type {\n",
       "        vertical-align: middle;\n",
       "    }\n",
       "\n",
       "    .dataframe tbody tr th {\n",
       "        vertical-align: top;\n",
       "    }\n",
       "\n",
       "    .dataframe thead th {\n",
       "        text-align: right;\n",
       "    }\n",
       "</style>\n",
       "<table border=\"1\" class=\"dataframe\">\n",
       "  <thead>\n",
       "    <tr style=\"text-align: right;\">\n",
       "      <th></th>\n",
       "      <th>종목명</th>\n",
       "      <th>ESG 통합등급</th>\n",
       "      <th>2011_E</th>\n",
       "      <th>2011_S</th>\n",
       "      <th>2011_G</th>\n",
       "      <th>평가연도</th>\n",
       "    </tr>\n",
       "  </thead>\n",
       "  <tbody>\n",
       "    <tr>\n",
       "      <th>0</th>\n",
       "      <td>AK홀딩스</td>\n",
       "      <td>B이하</td>\n",
       "      <td>B</td>\n",
       "      <td>B이하</td>\n",
       "      <td>B이하</td>\n",
       "      <td>2011</td>\n",
       "    </tr>\n",
       "    <tr>\n",
       "      <th>1</th>\n",
       "      <td>BYC</td>\n",
       "      <td>B이하</td>\n",
       "      <td>B</td>\n",
       "      <td>B이하</td>\n",
       "      <td>B이하</td>\n",
       "      <td>2011</td>\n",
       "    </tr>\n",
       "    <tr>\n",
       "      <th>2</th>\n",
       "      <td>CJ</td>\n",
       "      <td>B이하</td>\n",
       "      <td>B+</td>\n",
       "      <td>B이하</td>\n",
       "      <td>NaN</td>\n",
       "      <td>2011</td>\n",
       "    </tr>\n",
       "    <tr>\n",
       "      <th>3</th>\n",
       "      <td>CJ CGV</td>\n",
       "      <td>B이하</td>\n",
       "      <td>B</td>\n",
       "      <td>B이하</td>\n",
       "      <td>NaN</td>\n",
       "      <td>2011</td>\n",
       "    </tr>\n",
       "    <tr>\n",
       "      <th>4</th>\n",
       "      <td>CJ대한통운</td>\n",
       "      <td>B+</td>\n",
       "      <td>B</td>\n",
       "      <td>B+</td>\n",
       "      <td>B이하</td>\n",
       "      <td>2011</td>\n",
       "    </tr>\n",
       "    <tr>\n",
       "      <th>...</th>\n",
       "      <td>...</td>\n",
       "      <td>...</td>\n",
       "      <td>...</td>\n",
       "      <td>...</td>\n",
       "      <td>...</td>\n",
       "      <td>...</td>\n",
       "    </tr>\n",
       "    <tr>\n",
       "      <th>663</th>\n",
       "      <td>휴니드테크놀러지스</td>\n",
       "      <td>B+</td>\n",
       "      <td>C</td>\n",
       "      <td>B+</td>\n",
       "      <td>B이하</td>\n",
       "      <td>2011</td>\n",
       "    </tr>\n",
       "    <tr>\n",
       "      <th>664</th>\n",
       "      <td>휴스틸</td>\n",
       "      <td>NaN</td>\n",
       "      <td>B</td>\n",
       "      <td>NaN</td>\n",
       "      <td>B이하</td>\n",
       "      <td>2011</td>\n",
       "    </tr>\n",
       "    <tr>\n",
       "      <th>665</th>\n",
       "      <td>휴켐스</td>\n",
       "      <td>B이하</td>\n",
       "      <td>B+</td>\n",
       "      <td>B이하</td>\n",
       "      <td>B+</td>\n",
       "      <td>2011</td>\n",
       "    </tr>\n",
       "    <tr>\n",
       "      <th>666</th>\n",
       "      <td>흥국화재</td>\n",
       "      <td>B이하</td>\n",
       "      <td>C</td>\n",
       "      <td>B이하</td>\n",
       "      <td>NaN</td>\n",
       "      <td>2011</td>\n",
       "    </tr>\n",
       "    <tr>\n",
       "      <th>667</th>\n",
       "      <td>흥아해운</td>\n",
       "      <td>B이하</td>\n",
       "      <td>B</td>\n",
       "      <td>B이하</td>\n",
       "      <td>NaN</td>\n",
       "      <td>2011</td>\n",
       "    </tr>\n",
       "  </tbody>\n",
       "</table>\n",
       "<p>668 rows × 6 columns</p>\n",
       "</div>"
      ],
      "text/plain": [
       "           종목명 ESG 통합등급 2011_E 2011_S 2011_G  평가연도\n",
       "0        AK홀딩스      B이하      B    B이하    B이하  2011\n",
       "1          BYC      B이하      B    B이하    B이하  2011\n",
       "2           CJ      B이하     B+    B이하    NaN  2011\n",
       "3       CJ CGV      B이하      B    B이하    NaN  2011\n",
       "4       CJ대한통운       B+      B     B+    B이하  2011\n",
       "..         ...      ...    ...    ...    ...   ...\n",
       "663  휴니드테크놀러지스       B+      C     B+    B이하  2011\n",
       "664        휴스틸      NaN      B    NaN    B이하  2011\n",
       "665        휴켐스      B이하     B+    B이하     B+  2011\n",
       "666       흥국화재      B이하      C    B이하    NaN  2011\n",
       "667       흥아해운      B이하      B    B이하    NaN  2011\n",
       "\n",
       "[668 rows x 6 columns]"
      ]
     },
     "execution_count": 14,
     "metadata": {},
     "output_type": "execute_result"
    }
   ],
   "source": [
    "pd.read_csv(\"./ESG_csv/2011.csv\",encoding='euc-kr')"
   ]
  },
  {
   "cell_type": "code",
   "execution_count": 5,
   "metadata": {},
   "outputs": [],
   "source": [
    "df=pd.read_excel('./ESG_excel/2012.xlsx')\n",
    "df.columns=['종목명','ESG 통합등급','2012_E','2012_S','2012_G','평가연도']\n",
    "df_2012=df.iloc[4:,:].reset_index(drop=True)\n",
    "df_2012.sort_values(\"종목명\",inplace=True)\n",
    "df_2012\n",
    "#df_2012.to_csv(\"2012.csv\",index=False,encoding='euc-kr')"
   ]
  },
  {
   "cell_type": "code",
   "execution_count": 6,
   "metadata": {},
   "outputs": [],
   "source": [
    "df=pd.read_excel('./ESG_excel/2013.xlsx')\n",
    "df.columns=['종목명','ESG 통합등급','2013_E','2013_S','2013_G','평가연도']\n",
    "df_2013=df.iloc[4:,:].reset_index(drop=True)\n",
    "df_2013.sort_values(\"종목명\",inplace=True)\n",
    "df_2013\n",
    "#df_2013.to_csv(\"2013.csv\",index=False,encoding='euc-kr')"
   ]
  },
  {
   "cell_type": "code",
   "execution_count": 7,
   "metadata": {},
   "outputs": [],
   "source": [
    "df=pd.read_excel('./ESG_excel/2014.xlsx')\n",
    "df.columns=['종목명','ESG 통합등급','2014_E','2014_S','2014_G','평가연도']\n",
    "df_2014=df.iloc[4:,:].reset_index(drop=True)\n",
    "df_2014.sort_values(\"종목명\",inplace=True)\n",
    "df_2014\n",
    "#df_2014.to_csv(\"2014.csv\",index=False,encoding='euc-kr')"
   ]
  },
  {
   "cell_type": "code",
   "execution_count": 8,
   "metadata": {},
   "outputs": [],
   "source": [
    "df=pd.read_excel('./ESG_excel/2015.xlsx')\n",
    "df.columns=['종목명','ESG 통합등급','2015_E','2015_S','2015_G','평가연도']\n",
    "df_2015=df.iloc[4:,:].reset_index(drop=True)\n",
    "df_2015.sort_values(\"종목명\",inplace=True)\n",
    "df_2015\n",
    "#df_2015.to_csv(\"2015.csv\",index=False,encoding='euc-kr')"
   ]
  },
  {
   "cell_type": "code",
   "execution_count": 9,
   "metadata": {},
   "outputs": [],
   "source": [
    "df=pd.read_excel('./ESG_excel/2016.xlsx')\n",
    "df.columns=['종목명','ESG 통합등급','2016_E','2016_S','2016_G','평가연도']\n",
    "df_2016=df.iloc[4:,:].reset_index(drop=True)\n",
    "df_2016.sort_values(\"종목명\",inplace=True)\n",
    "df_2016\n",
    "#df_2016.to_csv(\"2016.csv\",index=False,encoding='euc-kr')"
   ]
  },
  {
   "cell_type": "code",
   "execution_count": 10,
   "metadata": {},
   "outputs": [],
   "source": [
    "df=pd.read_excel('./ESG_excel/2017.xlsx')\n",
    "df.columns=['종목명','ESG 통합등급','2017_E','2017_S','2017_G','평가연도']\n",
    "df_2017=df.iloc[4:,:].reset_index(drop=True)\n",
    "df_2017.sort_values(\"종목명\",inplace=True)\n",
    "df_2017.reset_index(drop=True,inplace=True)\n",
    "df_2017\n",
    "#df_2017.to_csv(\"2017.csv\",index=False,encoding='euc-kr')"
   ]
  },
  {
   "cell_type": "code",
   "execution_count": 11,
   "metadata": {},
   "outputs": [],
   "source": [
    "df=pd.read_excel('./ESG_excel/2018.xlsx')\n",
    "df.columns=['종목명','ESG 통합등급','2018_E','2018_S','2018_G','평가연도']\n",
    "df_2018=df.iloc[4:,:].reset_index(drop=True)\n",
    "df_2018.sort_values(\"종목명\",inplace=True)\n",
    "df_2018.reset_index(drop=True,inplace=True)\n",
    "df_2018\n",
    "#df_2018.to_csv(\"2018.csv\",index=False,encoding='euc-kr')"
   ]
  },
  {
   "cell_type": "code",
   "execution_count": 5,
   "metadata": {},
   "outputs": [
    {
     "name": "stdout",
     "output_type": "stream",
     "text": [
      "(668, 5)\n",
      "ESG 통합등급    136\n",
      "2011_E        0\n",
      "2011_S      137\n",
      "2011_G      296\n",
      "평가연도          0\n",
      "dtype: int64\n"
     ]
    }
   ],
   "source": [
    "df_2011=pd.read_csv('./ESG_csv/2011.csv',encoding='euc-kr',index_col='종목명')\n",
    "print(df_2011.shape)\n",
    "print(df_2011.isna().sum())"
   ]
  },
  {
   "cell_type": "code",
   "execution_count": 6,
   "metadata": {},
   "outputs": [
    {
     "name": "stdout",
     "output_type": "stream",
     "text": [
      "(710, 5)\n",
      "ESG 통합등급    45\n",
      "2012_E       4\n",
      "2012_S       4\n",
      "2012_G      37\n",
      "평가연도         0\n",
      "dtype: int64\n"
     ]
    }
   ],
   "source": [
    "df_2012=pd.read_csv('./ESG_csv/2012.csv',encoding='euc-kr',index_col='종목명')\n",
    "print(df_2012.shape)\n",
    "print(df_2012.isna().sum())"
   ]
  },
  {
   "cell_type": "code",
   "execution_count": 7,
   "metadata": {},
   "outputs": [
    {
     "name": "stdout",
     "output_type": "stream",
     "text": [
      "(693, 5)\n",
      "ESG 통합등급    0\n",
      "2013_E      0\n",
      "2013_S      0\n",
      "2013_G      0\n",
      "평가연도        0\n",
      "dtype: int64\n"
     ]
    }
   ],
   "source": [
    "df_2013=pd.read_csv('./ESG_csv/2013.csv',encoding='euc-kr',index_col='종목명')\n",
    "print(df_2013.shape)\n",
    "print(df_2013.isna().sum())"
   ]
  },
  {
   "cell_type": "code",
   "execution_count": 8,
   "metadata": {},
   "outputs": [
    {
     "name": "stdout",
     "output_type": "stream",
     "text": [
      "(694, 5)\n",
      "ESG 통합등급    0\n",
      "2014_E      0\n",
      "2014_S      0\n",
      "2014_G      0\n",
      "평가연도        0\n",
      "dtype: int64\n"
     ]
    }
   ],
   "source": [
    "df_2014=pd.read_csv('./ESG_csv/2014.csv',encoding='euc-kr',index_col='종목명')\n",
    "print(df_2014.shape)\n",
    "print(df_2014.isna().sum())"
   ]
  },
  {
   "cell_type": "code",
   "execution_count": 9,
   "metadata": {},
   "outputs": [
    {
     "name": "stdout",
     "output_type": "stream",
     "text": [
      "(696, 5)\n",
      "ESG 통합등급    0\n",
      "2015_E      0\n",
      "2015_S      0\n",
      "2015_G      0\n",
      "평가연도        0\n",
      "dtype: int64\n"
     ]
    }
   ],
   "source": [
    "df_2015=pd.read_csv('./ESG_csv/2015.csv',encoding='euc-kr',index_col='종목명')\n",
    "print(df_2015.shape)\n",
    "print(df_2015.isna().sum())"
   ]
  },
  {
   "cell_type": "code",
   "execution_count": 10,
   "metadata": {},
   "outputs": [
    {
     "name": "stdout",
     "output_type": "stream",
     "text": [
      "(713, 5)\n",
      "ESG 통합등급    0\n",
      "2016_E      0\n",
      "2016_S      0\n",
      "2016_G      0\n",
      "평가연도        0\n",
      "dtype: int64\n"
     ]
    }
   ],
   "source": [
    "df_2016=pd.read_csv('./ESG_csv/2016.csv',encoding='euc-kr',index_col='종목명')\n",
    "print(df_2016.shape)\n",
    "print(df_2016.isna().sum())"
   ]
  },
  {
   "cell_type": "code",
   "execution_count": 11,
   "metadata": {},
   "outputs": [
    {
     "name": "stdout",
     "output_type": "stream",
     "text": [
      "(733, 5)\n",
      "ESG 통합등급    0\n",
      "2017_E      0\n",
      "2017_S      0\n",
      "2017_G      0\n",
      "평가연도        0\n",
      "dtype: int64\n"
     ]
    }
   ],
   "source": [
    "df_2017=pd.read_csv('./ESG_csv/2017.csv',encoding='euc-kr',index_col='종목명')\n",
    "print(df_2017.shape)\n",
    "print(df_2017.isna().sum())"
   ]
  },
  {
   "cell_type": "code",
   "execution_count": 12,
   "metadata": {},
   "outputs": [
    {
     "name": "stdout",
     "output_type": "stream",
     "text": [
      "(747, 5)\n",
      "ESG 통합등급    20\n",
      "2018_E       0\n",
      "2018_S      20\n",
      "2018_G      20\n",
      "평가연도         0\n",
      "dtype: int64\n"
     ]
    }
   ],
   "source": [
    "df_2018=pd.read_csv('./ESG_csv/2018.csv',encoding='euc-kr',index_col='종목명')\n",
    "print(df_2018.shape)\n",
    "print(df_2018.isna().sum())"
   ]
  },
  {
   "cell_type": "code",
   "execution_count": null,
   "metadata": {},
   "outputs": [],
   "source": []
  }
 ],
 "metadata": {
  "kernelspec": {
   "display_name": "Python 3",
   "language": "python",
   "name": "python3"
  },
  "language_info": {
   "codemirror_mode": {
    "name": "ipython",
    "version": 3
   },
   "file_extension": ".py",
   "mimetype": "text/x-python",
   "name": "python",
   "nbconvert_exporter": "python",
   "pygments_lexer": "ipython3",
   "version": "3.10.9"
  },
  "orig_nbformat": 4
 },
 "nbformat": 4,
 "nbformat_minor": 2
}
