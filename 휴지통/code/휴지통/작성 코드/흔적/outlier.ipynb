{
 "cells": [
  {
   "cell_type": "code",
   "execution_count": 1,
   "metadata": {},
   "outputs": [],
   "source": [
    "import pandas as pd\n",
    "import numpy as np\n",
    "import matplotlib.pyplot as plt\n",
    "import seaborn as sns\n",
    "\n",
    "# warning메시지 무시\n",
    "import warnings\n",
    "warnings.filterwarnings('ignore')"
   ]
  },
  {
   "cell_type": "code",
   "execution_count": 50,
   "metadata": {},
   "outputs": [],
   "source": [
    "train=pd.read_csv('../../data/new/final_data_train.csv', index_col=0).reset_index(drop=True)"
   ]
  },
  {
   "cell_type": "code",
   "execution_count": 9,
   "metadata": {},
   "outputs": [
    {
     "data": {
      "text/html": [
       "<div>\n",
       "<style scoped>\n",
       "    .dataframe tbody tr th:only-of-type {\n",
       "        vertical-align: middle;\n",
       "    }\n",
       "\n",
       "    .dataframe tbody tr th {\n",
       "        vertical-align: top;\n",
       "    }\n",
       "\n",
       "    .dataframe thead th {\n",
       "        text-align: right;\n",
       "    }\n",
       "</style>\n",
       "<table border=\"1\" class=\"dataframe\">\n",
       "  <thead>\n",
       "    <tr style=\"text-align: right;\">\n",
       "      <th></th>\n",
       "      <th>기업명</th>\n",
       "      <th>업종명</th>\n",
       "      <th>평가연도</th>\n",
       "      <th>총자산규모</th>\n",
       "      <th>부채비율</th>\n",
       "      <th>자기자본비율</th>\n",
       "      <th>매출액증가율</th>\n",
       "      <th>현금흐름</th>\n",
       "      <th>PBR</th>\n",
       "      <th>ESG</th>\n",
       "      <th>E</th>\n",
       "      <th>S</th>\n",
       "      <th>G</th>\n",
       "      <th>배당기업구분</th>\n",
       "    </tr>\n",
       "  </thead>\n",
       "  <tbody>\n",
       "    <tr>\n",
       "      <th>3751</th>\n",
       "      <td>흥아해운</td>\n",
       "      <td>운수창고업</td>\n",
       "      <td>2021</td>\n",
       "      <td>2.472987e+11</td>\n",
       "      <td>140.24</td>\n",
       "      <td>41.63</td>\n",
       "      <td>-8.11</td>\n",
       "      <td>-0.032251</td>\n",
       "      <td>6.39</td>\n",
       "      <td>D</td>\n",
       "      <td>D</td>\n",
       "      <td>C</td>\n",
       "      <td>D</td>\n",
       "      <td>무배당기업</td>\n",
       "    </tr>\n",
       "  </tbody>\n",
       "</table>\n",
       "</div>"
      ],
      "text/plain": [
       "       기업명    업종명  평가연도         총자산규모    부채비율  자기자본비율  매출액증가율      현금흐름   PBR   \n",
       "3751  흥아해운  운수창고업  2021  2.472987e+11  140.24   41.63   -8.11 -0.032251  6.39  \\\n",
       "\n",
       "     ESG  E  S  G 배당기업구분  \n",
       "3751   D  D  C  D  무배당기업  "
      ]
     },
     "execution_count": 9,
     "metadata": {},
     "output_type": "execute_result"
    }
   ],
   "source": [
    "train.tail(1)"
   ]
  },
  {
   "cell_type": "code",
   "execution_count": 26,
   "metadata": {},
   "outputs": [],
   "source": [
    "# def winsorizing(x, df):\n",
    "#     # 임계치 설정 (98%)\n",
    "#     threshold = np.percentile(x, 98)\n",
    "#     # box plot 그리기\n",
    "#     plt.boxplot(x)\n",
    "#     # 이상치 표시\n",
    "#     outliers = [val for val in x if (val > threshold)|(val < -threshold)]\n",
    "#     for outlier in outliers:\n",
    "#         plt.plot(1, outlier, 'ro')\n",
    "\n",
    "#     plt.show()\n",
    "\n",
    "#     outliers = [val for val in x if (val > threshold)|(val < -threshold)]\n",
    "#     print('이상치 데이터 : ', outliers)\n",
    "#     len(outliers)\n",
    "\n",
    "#     # 이상치 제외한 값을 원본에 저장\n",
    "#     df = df[~x.isin(outliers)]\n",
    "\n",
    "#     return df"
   ]
  },
  {
   "cell_type": "code",
   "execution_count": null,
   "metadata": {},
   "outputs": [],
   "source": [
    "# quantile_5 = np.percentile(origin['Fare'].values, 0.5)\n",
    "# quantile__5 = np.percentile(origin['Fare'].values, 99.5)\n",
    "\n",
    "# origin[origin[\"Fare\"]>quantile_5] = quantile_5\n",
    "# origin[origin[\"Fare\"]<quantile__5] = quantile__5"
   ]
  },
  {
   "cell_type": "code",
   "execution_count": null,
   "metadata": {},
   "outputs": [],
   "source": [
    "# from scipy.stats import mstats\n",
    "\n",
    "# # 데이터 예시\n",
    "# data = [1, 2, 3, 4, 5, 6, 7, 8, 9, 10]\n",
    "\n",
    "# # 윈저라이징 수행 (상위 5%, 하위 5%를 윈저화)\n",
    "# winsorized_data = mstats.winsorize(data, limits=[0.05, 0.05])\n",
    "\n",
    "# # 결과 출력\n",
    "# print(winsorized_data)"
   ]
  },
  {
   "cell_type": "code",
   "execution_count": 29,
   "metadata": {},
   "outputs": [
    {
     "data": {
      "text/plain": [
       "{'whiskers': [<matplotlib.lines.Line2D at 0x17fbdfc0130>,\n",
       "  <matplotlib.lines.Line2D at 0x17fbdfc0400>],\n",
       " 'caps': [<matplotlib.lines.Line2D at 0x17fbdfc06a0>,\n",
       "  <matplotlib.lines.Line2D at 0x17fbdfc0940>],\n",
       " 'boxes': [<matplotlib.lines.Line2D at 0x17fbdf93fa0>],\n",
       " 'medians': [<matplotlib.lines.Line2D at 0x17fbdfc0be0>],\n",
       " 'fliers': [<matplotlib.lines.Line2D at 0x17fbdfc0e80>],\n",
       " 'means': []}"
      ]
     },
     "execution_count": 29,
     "metadata": {},
     "output_type": "execute_result"
    },
    {
     "data": {
      "image/png": "[encoded data removed]",
      "text/plain": [
       "<Figure size 640x480 with 1 Axes>"
      ]
     },
     "metadata": {},
     "output_type": "display_data"
    }
   ],
   "source": [
    "plt.boxplot(train['부채비율'])"
   ]
  },
  {
   "cell_type": "code",
   "execution_count": 67,
   "metadata": {},
   "outputs": [],
   "source": [
    "train_1 = train.copy()"
   ]
  },
  {
   "cell_type": "code",
   "execution_count": 30,
   "metadata": {},
   "outputs": [],
   "source": [
    "from scipy.stats import mstats"
   ]
  },
  {
   "cell_type": "code",
   "execution_count": 45,
   "metadata": {},
   "outputs": [
    {
     "data": {
      "text/plain": [
       "{'whiskers': [<matplotlib.lines.Line2D at 0x17fbe2842e0>,\n",
       "  <matplotlib.lines.Line2D at 0x17fbe284580>],\n",
       " 'caps': [<matplotlib.lines.Line2D at 0x17fbe284820>,\n",
       "  <matplotlib.lines.Line2D at 0x17fbe284ac0>],\n",
       " 'boxes': [<matplotlib.lines.Line2D at 0x17fbe284040>],\n",
       " 'medians': [<matplotlib.lines.Line2D at 0x17fbe284d60>],\n",
       " 'fliers': [<matplotlib.lines.Line2D at 0x17fbe285000>],\n",
       " 'means': []}"
      ]
     },
     "execution_count": 45,
     "metadata": {},
     "output_type": "execute_result"
    },
    {
     "data": {
      "image/png": "[encoded data removed]",
      "text/plain": [
       "<Figure size 640x480 with 1 Axes>"
      ]
     },
     "metadata": {},
     "output_type": "display_data"
    }
   ],
   "source": [
    "train_1['부채비율'] = mstats.winsorize(train_1['부채비율'].values, limits=[0.01, 0.01])\n",
    "plt.boxplot(train_1['부채비율'])"
   ]
  },
  {
   "cell_type": "code",
   "execution_count": 46,
   "metadata": {},
   "outputs": [
    {
     "data": {
      "text/plain": [
       "부채비율\n",
       "1374.49    38\n",
       "8.87       38\n",
       "37.72       4\n",
       "57.38       4\n",
       "38.98       4\n",
       "           ..\n",
       "34.63       1\n",
       "356.06      1\n",
       "23.50       1\n",
       "98.43       1\n",
       "140.24      1\n",
       "Name: count, Length: 3400, dtype: int64"
      ]
     },
     "execution_count": 46,
     "metadata": {},
     "output_type": "execute_result"
    }
   ],
   "source": [
    "train_1['부채비율'].value_counts()"
   ]
  },
  {
   "cell_type": "code",
   "execution_count": 52,
   "metadata": {},
   "outputs": [
    {
     "data": {
      "text/plain": [
       "{'whiskers': [<matplotlib.lines.Line2D at 0x17fbf49dab0>,\n",
       "  <matplotlib.lines.Line2D at 0x17fbf49dd50>],\n",
       " 'caps': [<matplotlib.lines.Line2D at 0x17fbf49dff0>,\n",
       "  <matplotlib.lines.Line2D at 0x17fbf49e290>],\n",
       " 'boxes': [<matplotlib.lines.Line2D at 0x17fbf49d810>],\n",
       " 'medians': [<matplotlib.lines.Line2D at 0x17fbf49e530>],\n",
       " 'fliers': [<matplotlib.lines.Line2D at 0x17fbf49e7d0>],\n",
       " 'means': []}"
      ]
     },
     "execution_count": 52,
     "metadata": {},
     "output_type": "execute_result"
    },
    {
     "data": {
      "image/png": "[encoded data removed]",
      "text/plain": [
       "<Figure size 640x480 with 1 Axes>"
      ]
     },
     "metadata": {},
     "output_type": "display_data"
    }
   ],
   "source": [
    "plt.boxplot(train_1['자기자본비율'])"
   ]
  },
  {
   "cell_type": "code",
   "execution_count": 55,
   "metadata": {},
   "outputs": [
    {
     "data": {
      "text/plain": [
       "{'whiskers': [<matplotlib.lines.Line2D at 0x17fbf31f130>,\n",
       "  <matplotlib.lines.Line2D at 0x17fbf31f3d0>],\n",
       " 'caps': [<matplotlib.lines.Line2D at 0x17fbf31f550>,\n",
       "  <matplotlib.lines.Line2D at 0x17fbf31f7f0>],\n",
       " 'boxes': [<matplotlib.lines.Line2D at 0x17fbf31ee90>],\n",
       " 'medians': [<matplotlib.lines.Line2D at 0x17fbf31fa90>],\n",
       " 'fliers': [<matplotlib.lines.Line2D at 0x17fbf31fd30>],\n",
       " 'means': []}"
      ]
     },
     "execution_count": 55,
     "metadata": {},
     "output_type": "execute_result"
    },
    {
     "data": {
      "image/png": "[encoded data removed]",
      "text/plain": [
       "<Figure size 640x480 with 1 Axes>"
      ]
     },
     "metadata": {},
     "output_type": "display_data"
    }
   ],
   "source": [
    "train_1['자기자본비율'] = mstats.winsorize(train_1['자기자본비율'].values, limits=[0.01, 0])\n",
    "plt.boxplot(train_1['자기자본비율'])"
   ]
  },
  {
   "cell_type": "code",
   "execution_count": 59,
   "metadata": {},
   "outputs": [
    {
     "data": {
      "text/plain": [
       "{'whiskers': [<matplotlib.lines.Line2D at 0x17fbe00f370>,\n",
       "  <matplotlib.lines.Line2D at 0x17fbdfe0580>],\n",
       " 'caps': [<matplotlib.lines.Line2D at 0x17fbdfe26e0>,\n",
       "  <matplotlib.lines.Line2D at 0x17fbe044be0>],\n",
       " 'boxes': [<matplotlib.lines.Line2D at 0x17fbdfc37c0>],\n",
       " 'medians': [<matplotlib.lines.Line2D at 0x17fbe0456f0>],\n",
       " 'fliers': [<matplotlib.lines.Line2D at 0x17fbe046140>],\n",
       " 'means': []}"
      ]
     },
     "execution_count": 59,
     "metadata": {},
     "output_type": "execute_result"
    },
    {
     "data": {
      "image/png": "[encoded data removed]",
      "text/plain": [
       "<Figure size 640x480 with 1 Axes>"
      ]
     },
     "metadata": {},
     "output_type": "display_data"
    }
   ],
   "source": [
    "plt.boxplot(train_1['매출액증가율'])"
   ]
  },
  {
   "cell_type": "code",
   "execution_count": 62,
   "metadata": {},
   "outputs": [
    {
     "data": {
      "text/plain": [
       "{'whiskers': [<matplotlib.lines.Line2D at 0x17fbdd317b0>,\n",
       "  <matplotlib.lines.Line2D at 0x17fbdd31900>],\n",
       " 'caps': [<matplotlib.lines.Line2D at 0x17fbdd30eb0>,\n",
       "  <matplotlib.lines.Line2D at 0x17fbdd30160>],\n",
       " 'boxes': [<matplotlib.lines.Line2D at 0x17fbdd31000>],\n",
       " 'medians': [<matplotlib.lines.Line2D at 0x17fbdd30b80>],\n",
       " 'fliers': [<matplotlib.lines.Line2D at 0x17fbdd305b0>],\n",
       " 'means': []}"
      ]
     },
     "execution_count": 62,
     "metadata": {},
     "output_type": "execute_result"
    },
    {
     "data": {
      "image/png": "[encoded data removed]",
      "text/plain": [
       "<Figure size 640x480 with 1 Axes>"
      ]
     },
     "metadata": {},
     "output_type": "display_data"
    }
   ],
   "source": [
    "train_1['매출액증가율'] = mstats.winsorize(train_1['매출액증가율'].values, limits=[0.00, 0.01])\n",
    "plt.boxplot(train_1['매출액증가율'])"
   ]
  },
  {
   "cell_type": "code",
   "execution_count": 63,
   "metadata": {},
   "outputs": [
    {
     "data": {
      "text/plain": [
       "{'whiskers': [<matplotlib.lines.Line2D at 0x17fbdce2770>,\n",
       "  <matplotlib.lines.Line2D at 0x17fbdf3d390>],\n",
       " 'caps': [<matplotlib.lines.Line2D at 0x17fbdce0760>,\n",
       "  <matplotlib.lines.Line2D at 0x17fbdce1630>],\n",
       " 'boxes': [<matplotlib.lines.Line2D at 0x17fbdce3040>],\n",
       " 'medians': [<matplotlib.lines.Line2D at 0x17fbdce2590>],\n",
       " 'fliers': [<matplotlib.lines.Line2D at 0x17fbdce3100>],\n",
       " 'means': []}"
      ]
     },
     "execution_count": 63,
     "metadata": {},
     "output_type": "execute_result"
    },
    {
     "data": {
      "image/png": "[encoded data removed]",
      "text/plain": [
       "<Figure size 640x480 with 1 Axes>"
      ]
     },
     "metadata": {},
     "output_type": "display_data"
    }
   ],
   "source": [
    "plt.boxplot(train_1['현금흐름'])"
   ]
  },
  {
   "cell_type": "code",
   "execution_count": 64,
   "metadata": {},
   "outputs": [
    {
     "data": {
      "text/plain": [
       "{'whiskers': [<matplotlib.lines.Line2D at 0x17fbdc98af0>,\n",
       "  <matplotlib.lines.Line2D at 0x17fbdc99180>],\n",
       " 'caps': [<matplotlib.lines.Line2D at 0x17fbdc99420>,\n",
       "  <matplotlib.lines.Line2D at 0x17fbdc996c0>],\n",
       " 'boxes': [<matplotlib.lines.Line2D at 0x17fbdc9b880>],\n",
       " 'medians': [<matplotlib.lines.Line2D at 0x17fbdc99960>],\n",
       " 'fliers': [<matplotlib.lines.Line2D at 0x17fbdc99c00>],\n",
       " 'means': []}"
      ]
     },
     "execution_count": 64,
     "metadata": {},
     "output_type": "execute_result"
    },
    {
     "data": {
      "image/png": "[encoded data removed]",
      "text/plain": [
       "<Figure size 640x480 with 1 Axes>"
      ]
     },
     "metadata": {},
     "output_type": "display_data"
    }
   ],
   "source": [
    "train_1['현금흐름'] = mstats.winsorize(train_1['현금흐름'].values, limits=[0.01, 0.01])\n",
    "plt.boxplot(train_1['현금흐름'])"
   ]
  },
  {
   "cell_type": "code",
   "execution_count": 65,
   "metadata": {},
   "outputs": [
    {
     "data": {
      "text/plain": [
       "{'whiskers': [<matplotlib.lines.Line2D at 0x17fbb80e6e0>,\n",
       "  <matplotlib.lines.Line2D at 0x17fbb80ea40>],\n",
       " 'caps': [<matplotlib.lines.Line2D at 0x17fbb80f010>,\n",
       "  <matplotlib.lines.Line2D at 0x17fbb80f2b0>],\n",
       " 'boxes': [<matplotlib.lines.Line2D at 0x17fbb80e500>],\n",
       " 'medians': [<matplotlib.lines.Line2D at 0x17fbb80f4c0>],\n",
       " 'fliers': [<matplotlib.lines.Line2D at 0x17fbb80f7c0>],\n",
       " 'means': []}"
      ]
     },
     "execution_count": 65,
     "metadata": {},
     "output_type": "execute_result"
    },
    {
     "data": {
      "image/png": "[encoded data removed]",
      "text/plain": [
       "<Figure size 640x480 with 1 Axes>"
      ]
     },
     "metadata": {},
     "output_type": "display_data"
    }
   ],
   "source": [
    "plt.boxplot(train_1['PBR'])"
   ]
  },
  {
   "cell_type": "code",
   "execution_count": 68,
   "metadata": {},
   "outputs": [
    {
     "data": {
      "text/plain": [
       "{'whiskers': [<matplotlib.lines.Line2D at 0x17fbba3d2d0>,\n",
       "  <matplotlib.lines.Line2D at 0x17fbdc1f880>],\n",
       " 'caps': [<matplotlib.lines.Line2D at 0x17fbdc1fb50>,\n",
       "  <matplotlib.lines.Line2D at 0x17fbdc1eb90>],\n",
       " 'boxes': [<matplotlib.lines.Line2D at 0x17fbba3d060>],\n",
       " 'medians': [<matplotlib.lines.Line2D at 0x17fbdc1ebc0>],\n",
       " 'fliers': [<matplotlib.lines.Line2D at 0x17fbdc1ea10>],\n",
       " 'means': []}"
      ]
     },
     "execution_count": 68,
     "metadata": {},
     "output_type": "execute_result"
    },
    {
     "data": {
      "image/png": "[encoded data removed]",
      "text/plain": [
       "<Figure size 640x480 with 1 Axes>"
      ]
     },
     "metadata": {},
     "output_type": "display_data"
    }
   ],
   "source": [
    "train_1['PBR'] = mstats.winsorize(train_1['PBR'].values, limits=[0.01, 0.015])\n",
    "plt.boxplot(train_1['PBR'])"
   ]
  },
  {
   "cell_type": "code",
   "execution_count": 73,
   "metadata": {},
   "outputs": [
    {
     "data": {
      "text/html": [
       "<div>\n",
       "<style scoped>\n",
       "    .dataframe tbody tr th:only-of-type {\n",
       "        vertical-align: middle;\n",
       "    }\n",
       "\n",
       "    .dataframe tbody tr th {\n",
       "        vertical-align: top;\n",
       "    }\n",
       "\n",
       "    .dataframe thead th {\n",
       "        text-align: right;\n",
       "    }\n",
       "</style>\n",
       "<table border=\"1\" class=\"dataframe\">\n",
       "  <thead>\n",
       "    <tr style=\"text-align: right;\">\n",
       "      <th></th>\n",
       "      <th>기업명</th>\n",
       "      <th>업종명</th>\n",
       "      <th>평가연도</th>\n",
       "      <th>총자산규모</th>\n",
       "      <th>부채비율</th>\n",
       "      <th>자기자본비율</th>\n",
       "      <th>매출액증가율</th>\n",
       "      <th>현금흐름</th>\n",
       "      <th>PBR</th>\n",
       "      <th>ESG</th>\n",
       "      <th>E</th>\n",
       "      <th>S</th>\n",
       "      <th>G</th>\n",
       "      <th>배당기업구분</th>\n",
       "    </tr>\n",
       "  </thead>\n",
       "  <tbody>\n",
       "    <tr>\n",
       "      <th>0</th>\n",
       "      <td>CS홀딩스</td>\n",
       "      <td>서비스업</td>\n",
       "      <td>2011</td>\n",
       "      <td>1.887535e+11</td>\n",
       "      <td>15.95</td>\n",
       "      <td>86.25</td>\n",
       "      <td>30.53</td>\n",
       "      <td>0.070627</td>\n",
       "      <td>0.390</td>\n",
       "      <td>C</td>\n",
       "      <td>B</td>\n",
       "      <td>C</td>\n",
       "      <td>C</td>\n",
       "      <td>무배당기업</td>\n",
       "    </tr>\n",
       "    <tr>\n",
       "      <th>1</th>\n",
       "      <td>KISCO홀딩스</td>\n",
       "      <td>서비스업</td>\n",
       "      <td>2011</td>\n",
       "      <td>7.797319e+11</td>\n",
       "      <td>14.21</td>\n",
       "      <td>87.56</td>\n",
       "      <td>5.37</td>\n",
       "      <td>0.055293</td>\n",
       "      <td>0.325</td>\n",
       "      <td>C</td>\n",
       "      <td>B+</td>\n",
       "      <td>C</td>\n",
       "      <td>C</td>\n",
       "      <td>중배당기업</td>\n",
       "    </tr>\n",
       "    <tr>\n",
       "      <th>2</th>\n",
       "      <td>LG이노텍</td>\n",
       "      <td>전기전자</td>\n",
       "      <td>2011</td>\n",
       "      <td>4.409967e+12</td>\n",
       "      <td>232.87</td>\n",
       "      <td>30.04</td>\n",
       "      <td>10.95</td>\n",
       "      <td>0.063961</td>\n",
       "      <td>1.760</td>\n",
       "      <td>A</td>\n",
       "      <td>B+</td>\n",
       "      <td>A</td>\n",
       "      <td>A</td>\n",
       "      <td>무배당기업</td>\n",
       "    </tr>\n",
       "    <tr>\n",
       "      <th>3</th>\n",
       "      <td>MH에탄올</td>\n",
       "      <td>음식료품</td>\n",
       "      <td>2011</td>\n",
       "      <td>1.342069e+11</td>\n",
       "      <td>214.54</td>\n",
       "      <td>31.79</td>\n",
       "      <td>-18.64</td>\n",
       "      <td>0.003993</td>\n",
       "      <td>0.360</td>\n",
       "      <td>C</td>\n",
       "      <td>B</td>\n",
       "      <td>C</td>\n",
       "      <td>B이하</td>\n",
       "      <td>무배당기업</td>\n",
       "    </tr>\n",
       "    <tr>\n",
       "      <th>4</th>\n",
       "      <td>OCI</td>\n",
       "      <td>화학</td>\n",
       "      <td>2011</td>\n",
       "      <td>7.205013e+12</td>\n",
       "      <td>93.68</td>\n",
       "      <td>51.63</td>\n",
       "      <td>28.71</td>\n",
       "      <td>0.321332</td>\n",
       "      <td>3.025</td>\n",
       "      <td>A</td>\n",
       "      <td>A</td>\n",
       "      <td>A</td>\n",
       "      <td>A</td>\n",
       "      <td>중배당기업</td>\n",
       "    </tr>\n",
       "    <tr>\n",
       "      <th>...</th>\n",
       "      <td>...</td>\n",
       "      <td>...</td>\n",
       "      <td>...</td>\n",
       "      <td>...</td>\n",
       "      <td>...</td>\n",
       "      <td>...</td>\n",
       "      <td>...</td>\n",
       "      <td>...</td>\n",
       "      <td>...</td>\n",
       "      <td>...</td>\n",
       "      <td>...</td>\n",
       "      <td>...</td>\n",
       "      <td>...</td>\n",
       "      <td>...</td>\n",
       "    </tr>\n",
       "    <tr>\n",
       "      <th>3747</th>\n",
       "      <td>후성</td>\n",
       "      <td>화학</td>\n",
       "      <td>2021</td>\n",
       "      <td>6.163344e+11</td>\n",
       "      <td>117.43</td>\n",
       "      <td>45.99</td>\n",
       "      <td>45.74</td>\n",
       "      <td>0.218873</td>\n",
       "      <td>6.010</td>\n",
       "      <td>B+</td>\n",
       "      <td>A</td>\n",
       "      <td>B</td>\n",
       "      <td>B</td>\n",
       "      <td>저배당기업</td>\n",
       "    </tr>\n",
       "    <tr>\n",
       "      <th>3748</th>\n",
       "      <td>휠라홀딩스</td>\n",
       "      <td>유통업</td>\n",
       "      <td>2021</td>\n",
       "      <td>4.288857e+12</td>\n",
       "      <td>85.95</td>\n",
       "      <td>53.78</td>\n",
       "      <td>21.26</td>\n",
       "      <td>0.138261</td>\n",
       "      <td>6.610</td>\n",
       "      <td>A</td>\n",
       "      <td>B+</td>\n",
       "      <td>A+</td>\n",
       "      <td>A</td>\n",
       "      <td>고배당기업</td>\n",
       "    </tr>\n",
       "    <tr>\n",
       "      <th>3749</th>\n",
       "      <td>휴비스</td>\n",
       "      <td>화학</td>\n",
       "      <td>2021</td>\n",
       "      <td>8.434152e+11</td>\n",
       "      <td>80.28</td>\n",
       "      <td>55.47</td>\n",
       "      <td>0.00</td>\n",
       "      <td>-0.013347</td>\n",
       "      <td>0.900</td>\n",
       "      <td>A</td>\n",
       "      <td>B+</td>\n",
       "      <td>A+</td>\n",
       "      <td>A</td>\n",
       "      <td>저배당기업</td>\n",
       "    </tr>\n",
       "    <tr>\n",
       "      <th>3750</th>\n",
       "      <td>휴스틸</td>\n",
       "      <td>철강금속</td>\n",
       "      <td>2021</td>\n",
       "      <td>9.519209e+11</td>\n",
       "      <td>51.97</td>\n",
       "      <td>65.80</td>\n",
       "      <td>68.62</td>\n",
       "      <td>0.004646</td>\n",
       "      <td>0.245</td>\n",
       "      <td>C</td>\n",
       "      <td>C</td>\n",
       "      <td>C</td>\n",
       "      <td>B</td>\n",
       "      <td>중배당기업</td>\n",
       "    </tr>\n",
       "    <tr>\n",
       "      <th>3751</th>\n",
       "      <td>흥아해운</td>\n",
       "      <td>운수창고업</td>\n",
       "      <td>2021</td>\n",
       "      <td>2.472987e+11</td>\n",
       "      <td>140.24</td>\n",
       "      <td>41.63</td>\n",
       "      <td>-8.11</td>\n",
       "      <td>-0.032251</td>\n",
       "      <td>6.390</td>\n",
       "      <td>D</td>\n",
       "      <td>D</td>\n",
       "      <td>C</td>\n",
       "      <td>D</td>\n",
       "      <td>무배당기업</td>\n",
       "    </tr>\n",
       "  </tbody>\n",
       "</table>\n",
       "<p>3752 rows × 14 columns</p>\n",
       "</div>"
      ],
      "text/plain": [
       "           기업명    업종명  평가연도         총자산규모    부채비율  자기자본비율  매출액증가율      현금흐름   \n",
       "0        CS홀딩스   서비스업  2011  1.887535e+11   15.95   86.25   30.53  0.070627  \\\n",
       "1     KISCO홀딩스   서비스업  2011  7.797319e+11   14.21   87.56    5.37  0.055293   \n",
       "2        LG이노텍   전기전자  2011  4.409967e+12  232.87   30.04   10.95  0.063961   \n",
       "3        MH에탄올   음식료품  2011  1.342069e+11  214.54   31.79  -18.64  0.003993   \n",
       "4          OCI     화학  2011  7.205013e+12   93.68   51.63   28.71  0.321332   \n",
       "...        ...    ...   ...           ...     ...     ...     ...       ...   \n",
       "3747        후성     화학  2021  6.163344e+11  117.43   45.99   45.74  0.218873   \n",
       "3748     휠라홀딩스    유통업  2021  4.288857e+12   85.95   53.78   21.26  0.138261   \n",
       "3749       휴비스     화학  2021  8.434152e+11   80.28   55.47    0.00 -0.013347   \n",
       "3750       휴스틸   철강금속  2021  9.519209e+11   51.97   65.80   68.62  0.004646   \n",
       "3751      흥아해운  운수창고업  2021  2.472987e+11  140.24   41.63   -8.11 -0.032251   \n",
       "\n",
       "        PBR ESG   E   S    G 배당기업구분  \n",
       "0     0.390   C   B   C    C  무배당기업  \n",
       "1     0.325   C  B+   C    C  중배당기업  \n",
       "2     1.760   A  B+   A    A  무배당기업  \n",
       "3     0.360   C   B   C  B이하  무배당기업  \n",
       "4     3.025   A   A   A    A  중배당기업  \n",
       "...     ...  ..  ..  ..  ...    ...  \n",
       "3747  6.010  B+   A   B    B  저배당기업  \n",
       "3748  6.610   A  B+  A+    A  고배당기업  \n",
       "3749  0.900   A  B+  A+    A  저배당기업  \n",
       "3750  0.245   C   C   C    B  중배당기업  \n",
       "3751  6.390   D   D   C    D  무배당기업  \n",
       "\n",
       "[3752 rows x 14 columns]"
      ]
     },
     "execution_count": 73,
     "metadata": {},
     "output_type": "execute_result"
    }
   ],
   "source": [
    "# winsorized data\n",
    "train_1"
   ]
  },
  {
   "cell_type": "code",
   "execution_count": 75,
   "metadata": {},
   "outputs": [],
   "source": [
    "A = pd.get_dummies(train_1, columns=['ESG', 'E', 'S', 'G'])"
   ]
  },
  {
   "cell_type": "code",
   "execution_count": 76,
   "metadata": {},
   "outputs": [
    {
     "data": {
      "text/plain": [
       "Index(['기업명', '업종명', '평가연도', '총자산규모', '부채비율', '자기자본비율', '매출액증가율', '현금흐름',\n",
       "       'PBR', '배당기업구분', 'ESG_-', 'ESG_A', 'ESG_A+', 'ESG_B', 'ESG_B+',\n",
       "       'ESG_B이하', 'ESG_C', 'ESG_D', 'E_-', 'E_A', 'E_A+', 'E_B', 'E_B+',\n",
       "       'E_B+ 이하', 'E_C', 'E_D', 'S_-', 'S_A', 'S_A+', 'S_B', 'S_B+', 'S_B이하',\n",
       "       'S_C', 'S_D', 'G_-', 'G_A', 'G_A+', 'G_B', 'G_B+', 'G_B이하', 'G_C',\n",
       "       'G_D'],\n",
       "      dtype='object')"
      ]
     },
     "execution_count": 76,
     "metadata": {},
     "output_type": "execute_result"
    }
   ],
   "source": [
    "A.columns"
   ]
  },
  {
   "cell_type": "code",
   "execution_count": 78,
   "metadata": {},
   "outputs": [],
   "source": [
    "A = A[['기업명', '업종명', '평가연도', '총자산규모', '부채비율', '자기자본비율', '매출액증가율', '현금흐름',\n",
    "       'PBR', 'ESG_-', 'ESG_A', 'ESG_A+', 'ESG_B', 'ESG_B+',\n",
    "       'ESG_B이하', 'ESG_C', 'ESG_D', 'E_-', 'E_A', 'E_A+', 'E_B', 'E_B+',\n",
    "       'E_B+ 이하', 'E_C', 'E_D', 'S_-', 'S_A', 'S_A+', 'S_B', 'S_B+', 'S_B이하',\n",
    "       'S_C', 'S_D', 'G_-', 'G_A', 'G_A+', 'G_B', 'G_B+', 'G_B이하', 'G_C',\n",
    "       'G_D', '배당기업구분']]"
   ]
  },
  {
   "cell_type": "code",
   "execution_count": 81,
   "metadata": {},
   "outputs": [],
   "source": [
    "A.to_csv('winsor_1.csv', encoding='euc-kr')"
   ]
  },
  {
   "cell_type": "code",
   "execution_count": null,
   "metadata": {},
   "outputs": [],
   "source": []
  }
 ],
 "metadata": {
  "kernelspec": {
   "display_name": "Python 3",
   "language": "python",
   "name": "python3"
  },
  "language_info": {
   "codemirror_mode": {
    "name": "ipython",
    "version": 3
   },
   "file_extension": ".py",
   "mimetype": "text/x-python",
   "name": "python",
   "nbconvert_exporter": "python",
   "pygments_lexer": "ipython3",
   "version": "3.10.9"
  },
  "orig_nbformat": 4
 },
 "nbformat": 4,
 "nbformat_minor": 2
}
