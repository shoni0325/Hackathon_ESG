{
 "cells": [
  {
   "cell_type": "code",
   "execution_count": 17,
   "metadata": {},
   "outputs": [],
   "source": [
    "import warnings\n",
    "warnings.filterwarnings('ignore')"
   ]
  },
  {
   "attachments": {},
   "cell_type": "markdown",
   "metadata": {},
   "source": [
    "무배당 포함, ESG 포함"
   ]
  },
  {
   "cell_type": "code",
   "execution_count": 26,
   "metadata": {},
   "outputs": [
    {
     "name": "stdout",
     "output_type": "stream",
     "text": [
      "최적 하이퍼 파라미터 : {'C': 3.0, 'max_iter': 1000, 'penalty': 'l2'}, 최적 평균 정확도 : 0.664\n"
     ]
    }
   ],
   "source": [
    "from sklearn.linear_model import LogisticRegression\n",
    "from sklearn.metrics import accuracy_score\n",
    "from sklearn.model_selection import GridSearchCV\n",
    "\n",
    "from sklearn.model_selection import train_test_split\n",
    "import pandas as pd\n",
    "\n",
    "train = pd.read_csv('../../data/new/진짜최종데이터/total_win_scaled_train_data.csv',index_col='기업명')\n",
    "\n",
    "\n",
    "lg_clf=LogisticRegression(penalty='l2',C=3.0, max_iter=1000,multi_class='multinomial',solver='lbfgs')\n",
    "\n",
    "X= train.iloc[:,2:40]\n",
    "y=train['배당기업구분'].map({\n",
    "    '고배당기업': 2,\n",
    "    '일반배당기업':1,\n",
    "    '무배당기업':0\n",
    "})\n",
    "\n",
    "X_train ,X_test ,y_train ,y_test= train_test_split(X,y,test_size=0.2,random_state=0)\n",
    "\n",
    "params={\n",
    "    'penalty':['l1','l2'],\n",
    "    'C':[0.1,1.0,3.0],\n",
    "    'max_iter':[100,150,300,1000]\n",
    "}\n",
    "\n",
    "grid=GridSearchCV(lg_clf,param_grid=params,scoring='accuracy',cv=3)\n",
    "grid.fit(X_train,y_train)\n",
    "\n",
    "# model.fit(X_train, y_train)\n",
    "\n",
    "print(f'최적 하이퍼 파라미터 : {grid.best_params_}, 최적 평균 정확도 : {grid.best_score_:.3f}')\n",
    "\n",
    "# y_pred = model.predict(X_test) # 예측 라벨(0과 1로 예측)\n",
    "\n",
    "# # 예측 라벨과 실제 라벨 사이의 정확도 측정\n",
    "# accuracy_score(y_pred, y_test)"
   ]
  },
  {
   "attachments": {},
   "cell_type": "markdown",
   "metadata": {},
   "source": [
    "무배당 미포함, ESG 포함"
   ]
  },
  {
   "cell_type": "code",
   "execution_count": 31,
   "metadata": {},
   "outputs": [],
   "source": [
    "train_1= train[~(train['배당기업구분']=='무배당기업')]"
   ]
  },
  {
   "cell_type": "code",
   "execution_count": 33,
   "metadata": {},
   "outputs": [
    {
     "name": "stdout",
     "output_type": "stream",
     "text": [
      "최적 하이퍼 파라미터 : {'C': 10.0, 'max_iter': 150, 'penalty': 'l2'}, 최적 평균 정확도 : 0.829\n"
     ]
    }
   ],
   "source": [
    "from sklearn.linear_model import LogisticRegression\n",
    "from sklearn.metrics import accuracy_score\n",
    "from sklearn.model_selection import GridSearchCV\n",
    "\n",
    "from sklearn.model_selection import train_test_split\n",
    "import pandas as pd\n",
    "\n",
    "\n",
    "\n",
    "lg_clf=LogisticRegression(penalty='l2',C=3.0, max_iter=1000 ,solver='lbfgs')\n",
    "\n",
    "X= train_1.iloc[:,2:40]\n",
    "y=train_1['배당기업구분'].map({\n",
    "    '고배당기업': 1,\n",
    "    '일반배당기업':0\n",
    "})\n",
    "\n",
    "X_train ,X_test ,y_train ,y_test= train_test_split(X,y,test_size=0.2,random_state=0)\n",
    "\n",
    "params={\n",
    "    'penalty':['l1','l2'],\n",
    "    'C':[5.0,3.0, 10.0],\n",
    "    'max_iter':[100,150,300,1000]\n",
    "}\n",
    "\n",
    "grid=GridSearchCV(lg_clf,param_grid=params,scoring='accuracy',cv=3)\n",
    "grid.fit(X_train,y_train)\n",
    "\n",
    "# model.fit(X_train, y_train)\n",
    "\n",
    "print(f'최적 하이퍼 파라미터 : {grid.best_params_}, 최적 평균 정확도 : {grid.best_score_:.3f}')\n",
    "\n",
    "# y_pred = model.predict(X_test) # 예측 라벨(0과 1로 예측)\n",
    "\n",
    "# # 예측 라벨과 실제 라벨 사이의 정확도 측정\n",
    "# accuracy_score(y_pred, y_test)"
   ]
  },
  {
   "attachments": {},
   "cell_type": "markdown",
   "metadata": {},
   "source": [
    "무배당 포함, ESG 미포함"
   ]
  },
  {
   "cell_type": "code",
   "execution_count": 39,
   "metadata": {},
   "outputs": [],
   "source": [
    "train_2 = train.iloc[:,0:8]\n",
    "train_2['배당기업구분'] = train['배당기업구분']"
   ]
  },
  {
   "cell_type": "code",
   "execution_count": 42,
   "metadata": {},
   "outputs": [
    {
     "data": {
      "text/html": [
       "<div>\n",
       "<style scoped>\n",
       "    .dataframe tbody tr th:only-of-type {\n",
       "        vertical-align: middle;\n",
       "    }\n",
       "\n",
       "    .dataframe tbody tr th {\n",
       "        vertical-align: top;\n",
       "    }\n",
       "\n",
       "    .dataframe thead th {\n",
       "        text-align: right;\n",
       "    }\n",
       "</style>\n",
       "<table border=\"1\" class=\"dataframe\">\n",
       "  <thead>\n",
       "    <tr style=\"text-align: right;\">\n",
       "      <th></th>\n",
       "      <th>총자산규모</th>\n",
       "      <th>부채비율</th>\n",
       "      <th>자기자본비율</th>\n",
       "      <th>매출액증가율</th>\n",
       "      <th>현금흐름</th>\n",
       "      <th>PBR</th>\n",
       "    </tr>\n",
       "    <tr>\n",
       "      <th>기업명</th>\n",
       "      <th></th>\n",
       "      <th></th>\n",
       "      <th></th>\n",
       "      <th></th>\n",
       "      <th></th>\n",
       "      <th></th>\n",
       "    </tr>\n",
       "  </thead>\n",
       "  <tbody>\n",
       "    <tr>\n",
       "      <th>조선내화</th>\n",
       "      <td>27.600795</td>\n",
       "      <td>-0.513722</td>\n",
       "      <td>0.577531</td>\n",
       "      <td>-0.468648</td>\n",
       "      <td>0.243576</td>\n",
       "      <td>-0.522959</td>\n",
       "    </tr>\n",
       "    <tr>\n",
       "      <th>이건산업</th>\n",
       "      <td>26.816445</td>\n",
       "      <td>-0.128264</td>\n",
       "      <td>-0.364908</td>\n",
       "      <td>0.576848</td>\n",
       "      <td>-0.445049</td>\n",
       "      <td>-0.282386</td>\n",
       "    </tr>\n",
       "    <tr>\n",
       "      <th>용평리조트</th>\n",
       "      <td>27.489638</td>\n",
       "      <td>-0.174364</td>\n",
       "      <td>-0.283712</td>\n",
       "      <td>-0.397979</td>\n",
       "      <td>0.387216</td>\n",
       "      <td>-0.114315</td>\n",
       "    </tr>\n",
       "    <tr>\n",
       "      <th>동양고속</th>\n",
       "      <td>26.078333</td>\n",
       "      <td>-0.407026</td>\n",
       "      <td>0.241951</td>\n",
       "      <td>-0.813471</td>\n",
       "      <td>0.599409</td>\n",
       "      <td>-0.463640</td>\n",
       "    </tr>\n",
       "    <tr>\n",
       "      <th>삼영무역</th>\n",
       "      <td>26.245638</td>\n",
       "      <td>-0.696361</td>\n",
       "      <td>1.392779</td>\n",
       "      <td>-0.373420</td>\n",
       "      <td>-0.159165</td>\n",
       "      <td>-0.503186</td>\n",
       "    </tr>\n",
       "    <tr>\n",
       "      <th>...</th>\n",
       "      <td>...</td>\n",
       "      <td>...</td>\n",
       "      <td>...</td>\n",
       "      <td>...</td>\n",
       "      <td>...</td>\n",
       "      <td>...</td>\n",
       "    </tr>\n",
       "    <tr>\n",
       "      <th>한화</th>\n",
       "      <td>32.361260</td>\n",
       "      <td>4.357967</td>\n",
       "      <td>-2.044215</td>\n",
       "      <td>3.544934</td>\n",
       "      <td>1.132608</td>\n",
       "      <td>-0.328523</td>\n",
       "    </tr>\n",
       "    <tr>\n",
       "      <th>다스코</th>\n",
       "      <td>26.422127</td>\n",
       "      <td>-0.029583</td>\n",
       "      <td>-0.519791</td>\n",
       "      <td>2.732996</td>\n",
       "      <td>-0.731996</td>\n",
       "      <td>-0.466935</td>\n",
       "    </tr>\n",
       "    <tr>\n",
       "      <th>아세아제지</th>\n",
       "      <td>27.207232</td>\n",
       "      <td>-0.538563</td>\n",
       "      <td>0.667645</td>\n",
       "      <td>-0.517765</td>\n",
       "      <td>-0.188172</td>\n",
       "      <td>-0.661371</td>\n",
       "    </tr>\n",
       "    <tr>\n",
       "      <th>코스모화학</th>\n",
       "      <td>26.843203</td>\n",
       "      <td>0.249350</td>\n",
       "      <td>-0.856779</td>\n",
       "      <td>2.165641</td>\n",
       "      <td>-1.149710</td>\n",
       "      <td>0.683200</td>\n",
       "    </tr>\n",
       "    <tr>\n",
       "      <th>STX</th>\n",
       "      <td>27.040541</td>\n",
       "      <td>3.535550</td>\n",
       "      <td>-1.948000</td>\n",
       "      <td>-1.209416</td>\n",
       "      <td>-0.696524</td>\n",
       "      <td>4.018261</td>\n",
       "    </tr>\n",
       "  </tbody>\n",
       "</table>\n",
       "<p>3430 rows × 6 columns</p>\n",
       "</div>"
      ],
      "text/plain": [
       "           총자산규모      부채비율    자기자본비율    매출액증가율      현금흐름       PBR\n",
       "기업명                                                               \n",
       "조선내화   27.600795 -0.513722  0.577531 -0.468648  0.243576 -0.522959\n",
       "이건산업   26.816445 -0.128264 -0.364908  0.576848 -0.445049 -0.282386\n",
       "용평리조트  27.489638 -0.174364 -0.283712 -0.397979  0.387216 -0.114315\n",
       "동양고속   26.078333 -0.407026  0.241951 -0.813471  0.599409 -0.463640\n",
       "삼영무역   26.245638 -0.696361  1.392779 -0.373420 -0.159165 -0.503186\n",
       "...          ...       ...       ...       ...       ...       ...\n",
       "한화     32.361260  4.357967 -2.044215  3.544934  1.132608 -0.328523\n",
       "다스코    26.422127 -0.029583 -0.519791  2.732996 -0.731996 -0.466935\n",
       "아세아제지  27.207232 -0.538563  0.667645 -0.517765 -0.188172 -0.661371\n",
       "코스모화학  26.843203  0.249350 -0.856779  2.165641 -1.149710  0.683200\n",
       "STX    27.040541  3.535550 -1.948000 -1.209416 -0.696524  4.018261\n",
       "\n",
       "[3430 rows x 6 columns]"
      ]
     },
     "execution_count": 42,
     "metadata": {},
     "output_type": "execute_result"
    }
   ],
   "source": [
    "train_2.iloc[:,2:8]"
   ]
  },
  {
   "cell_type": "code",
   "execution_count": 43,
   "metadata": {},
   "outputs": [
    {
     "name": "stdout",
     "output_type": "stream",
     "text": [
      "최적 하이퍼 파라미터 : {'C': 0.1, 'max_iter': 300, 'penalty': 'l2'}, 최적 평균 정확도 : 0.661\n"
     ]
    }
   ],
   "source": [
    "from sklearn.linear_model import LogisticRegression\n",
    "from sklearn.metrics import accuracy_score\n",
    "from sklearn.model_selection import GridSearchCV\n",
    "\n",
    "from sklearn.model_selection import train_test_split\n",
    "import pandas as pd\n",
    "\n",
    "\n",
    "lg_clf=LogisticRegression(penalty='l2',C=3.0, max_iter=1000,multi_class='multinomial',solver='lbfgs')\n",
    "\n",
    "X= train_2.iloc[:,2:8]\n",
    "y=train['배당기업구분'].map({\n",
    "    '고배당기업': 2,\n",
    "    '일반배당기업':1,\n",
    "    '무배당기업':0\n",
    "})\n",
    "\n",
    "X_train ,X_test ,y_train ,y_test= train_test_split(X,y,test_size=0.2,random_state=0)\n",
    "\n",
    "params={\n",
    "    'penalty':['l1','l2'],\n",
    "    'C':[0.1,1.0,3.0],\n",
    "    'max_iter':[100,150,300,1000]\n",
    "}\n",
    "\n",
    "grid=GridSearchCV(lg_clf,param_grid=params,scoring='accuracy',cv=3)\n",
    "grid.fit(X_train,y_train)\n",
    "\n",
    "# model.fit(X_train, y_train)\n",
    "\n",
    "print(f'최적 하이퍼 파라미터 : {grid.best_params_}, 최적 평균 정확도 : {grid.best_score_:.3f}')\n",
    "\n",
    "# y_pred = model.predict(X_test) # 예측 라벨(0과 1로 예측)\n",
    "\n",
    "# # 예측 라벨과 실제 라벨 사이의 정확도 측정\n",
    "# accuracy_score(y_pred, y_test)"
   ]
  },
  {
   "attachments": {},
   "cell_type": "markdown",
   "metadata": {},
   "source": [
    "무배당 미포함, ESG 미포함"
   ]
  },
  {
   "cell_type": "code",
   "execution_count": 46,
   "metadata": {},
   "outputs": [],
   "source": [
    "train_3 = train_2[~(train_2['배당기업구분']=='무배당기업')]"
   ]
  },
  {
   "cell_type": "code",
   "execution_count": 48,
   "metadata": {},
   "outputs": [
    {
     "name": "stdout",
     "output_type": "stream",
     "text": [
      "최적 하이퍼 파라미터 : {'C': 5.0, 'max_iter': 100, 'penalty': 'l2'}, 최적 평균 정확도 : 0.824\n"
     ]
    }
   ],
   "source": [
    "from sklearn.linear_model import LogisticRegression\n",
    "from sklearn.metrics import accuracy_score\n",
    "from sklearn.model_selection import GridSearchCV\n",
    "\n",
    "from sklearn.model_selection import train_test_split\n",
    "import pandas as pd\n",
    "\n",
    "\n",
    "\n",
    "lg_clf=LogisticRegression(penalty='l2',C=3.0, max_iter=1000 ,solver='lbfgs')\n",
    "\n",
    "X= train_3.iloc[:,2:8]\n",
    "y=train_3['배당기업구분'].map({\n",
    "    '고배당기업': 1,\n",
    "    '일반배당기업':0\n",
    "})\n",
    "\n",
    "X_train ,X_test ,y_train ,y_test= train_test_split(X,y,test_size=0.2,random_state=0)\n",
    "\n",
    "params={\n",
    "    'penalty':['l1','l2'],\n",
    "    'C':[5.0,3.0, 10.0],\n",
    "    'max_iter':[100,150,300,1000]\n",
    "}\n",
    "\n",
    "grid=GridSearchCV(lg_clf,param_grid=params,scoring='accuracy',cv=3)\n",
    "grid.fit(X_train,y_train)\n",
    "\n",
    "# model.fit(X_train, y_train)\n",
    "\n",
    "print(f'최적 하이퍼 파라미터 : {grid.best_params_}, 최적 평균 정확도 : {grid.best_score_:.3f}')\n",
    "\n",
    "# y_pred = model.predict(X_test) # 예측 라벨(0과 1로 예측)\n",
    "\n",
    "# # 예측 라벨과 실제 라벨 사이의 정확도 측정\n",
    "# accuracy_score(y_pred, y_test)"
   ]
  },
  {
   "cell_type": "code",
   "execution_count": null,
   "metadata": {},
   "outputs": [],
   "source": []
  }
 ],
 "metadata": {
  "kernelspec": {
   "display_name": "Python 3",
   "language": "python",
   "name": "python3"
  },
  "language_info": {
   "codemirror_mode": {
    "name": "ipython",
    "version": 3
   },
   "file_extension": ".py",
   "mimetype": "text/x-python",
   "name": "python",
   "nbconvert_exporter": "python",
   "pygments_lexer": "ipython3",
   "version": "3.10.9"
  },
  "orig_nbformat": 4
 },
 "nbformat": 4,
 "nbformat_minor": 2
}
