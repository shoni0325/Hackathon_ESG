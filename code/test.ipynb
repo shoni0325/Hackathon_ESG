{
 "cells": [
  {
   "cell_type": "code",
   "execution_count": null,
   "metadata": {},
   "outputs": [],
   "source": [
    "data = soup.find_all('span')  # 크롤링한 데이터\n",
    "text_list = [item.text for item in data]  # 텍스트 추출\n",
    "print(text_list)"
   ]
  },
  {
   "cell_type": "code",
   "execution_count": 1,
   "metadata": {},
   "outputs": [],
   "source": [
    "import pandas as pd"
   ]
  },
  {
   "cell_type": "code",
   "execution_count": 3,
   "metadata": {},
   "outputs": [],
   "source": [
    "import requests\n",
    "from bs4 import BeautifulSoup"
   ]
  },
  {
   "cell_type": "code",
   "execution_count": 4,
   "metadata": {},
   "outputs": [],
   "source": [
    "url = \"https://esg.krx.co.kr/contents/02/02020000/ESG02020000.jsp\"\n",
    "response = requests.get(url)\n",
    "\n",
    "soup = BeautifulSoup(response.text, 'html.parser')"
   ]
  },
  {
   "cell_type": "code",
   "execution_count": null,
   "metadata": {},
   "outputs": [],
   "source": [
    "soup = BeautifulSoup(response.text, \"lxml\")\n",
    "cartoonsBox = soup.find('ol', attrs={\"data-value\": \"\"}) # 전체 영역에서 'a' 태그를 찾지 않고 인기 급상승 영역으로 범위 제한\n",
    "cartoons = cartoonsBox.find_all('a') # 인기 급상승 영역에서 'a'태그 모두 찾아 변수 cartoons에 할당"
   ]
  },
  {
   "cell_type": "code",
   "execution_count": 19,
   "metadata": {},
   "outputs": [],
   "source": [
    "data_list = soup.find_all('name')"
   ]
  },
  {
   "cell_type": "code",
   "execution_count": 20,
   "metadata": {},
   "outputs": [
    {
     "data": {
      "text/plain": [
       "[<span class=\"icon\"></span>,\n",
       " <span class=\"logo\" onclick=\"$.movePage('/');\"></span>,\n",
       " <span class=\"title\">\n",
       " <a href=\"/index.jsp\"></a>\n",
       " </span>,\n",
       " <span>ESG 소개</span>,\n",
       " <span>ESG 기업정보</span>,\n",
       " <span>ESG 통계</span>,\n",
       " <span>ESG 뉴스</span>,\n",
       " <span>자료실</span>,\n",
       " <span class=\"icon\"></span>,\n",
       " <span class=\"link\"></span>,\n",
       " <span class=\"icon\"></span>,\n",
       " <span class=\"pc_vw2\">· KCGS</span>,\n",
       " <span class=\"icon\" onclick=\"$.layer_popup('#layer-noti-kcgs'); return false;\">법적고지<i></i></span>,\n",
       " <span class=\"text\">ESG 평가문의(esg@cgs.or.kr), <br class=\"mo_vw2\"/>등급 활용(esgdata@cgs.or.kr)</span>,\n",
       " <span class=\"pc_vw2\">· 한국 ESG 연구소</span>,\n",
       " <span class=\"icon\" onclick=\"$.layer_popup('#layer-noti-kesg'); return false;\">법적고지<i></i></span>,\n",
       " <span class=\"text\">kresg@kesgresearch.com</span>,\n",
       " <span class=\"pc_vw2\">· Moody's</span>,\n",
       " <span class=\"icon\" onclick=\"$.layer_popup('#layer-noti-moodys'); return false;\">법적고지<i></i></span>,\n",
       " <span class=\"text\">clientservices@moodys.com</span>,\n",
       " <span class=\"pc_vw2\">· MSCI</span>,\n",
       " <span class=\"icon\" onclick=\"$.layer_popup('#layer-noti-msci'); return false;\">법적고지<i></i></span>,\n",
       " <span class=\"text\">Seoul_esg@msci.com</span>,\n",
       " <span class=\"pc_vw2\">· S&amp;P</span>,\n",
       " <span class=\"icon\" onclick=\"$.layer_popup('#layer-noti-sp'); return false;\">법적고지<i></i></span>,\n",
       " <span class=\"text\">Support.ciq@spglobal.com</span>,\n",
       " <span class=\"pc_vw2\">· 지속가능발전소</span>,\n",
       " <span class=\"icon\" onclick=\"$.layer_popup('#layer-noti-news'); return false;\">법적고지<i></i></span>,\n",
       " <span class=\"text\">info@whosgood.org</span>,\n",
       " <span class=\"btn-layerClose\"></span>,\n",
       " <span class=\"btn-layerClose\"></span>,\n",
       " <span class=\"btn-layerClose\"></span>,\n",
       " <span class=\"btn-layerClose\"></span>,\n",
       " <span class=\"btn-layerClose\"></span>,\n",
       " <span class=\"btn-layerClose\"></span>,\n",
       " <span></span>,\n",
       " <span class=\"loading\"></span>,\n",
       " <span class=\"mo_vw2 year\">{{yy}}</span>,\n",
       " <span class=\"icobox\">\n",
       " <i alt=\"icon\" class=\"use{{key1}}\"></i>\n",
       " <i alt=\"icon\" class=\"use{{key2}}\"></i>\n",
       " <!-- 위 use~key1 key2 정상동작을 위해 필요 -->\n",
       " <span class=\"dpn\">{{key1}}</span>\n",
       " <span class=\"dpn\">{{key2}}</span>\n",
       " </span>,\n",
       " <span class=\"dpn\">{{key1}}</span>,\n",
       " <span class=\"dpn\">{{key2}}</span>,\n",
       " <span class=\"grd-font kcgs kcgsB\" data-value=\"{{kcgs_esg}}\">{{kcgs_esg}}</span>,\n",
       " <span class=\"grd-font kcgs\" data-value=\"{{kcgs_env}}\">{{kcgs_env}}</span>,\n",
       " <span class=\"grd-font kcgs\" data-value=\"{{kcgs_soc}}\">{{kcgs_soc}}</span>,\n",
       " <span class=\"grd-font kcgs\" data-value=\"{{kcgs_gov}}\">{{kcgs_gov}}</span>,\n",
       " <span class=\"grd-font kesg\" data-value=\"{{kesg_esg}}\">{{kesg_esg}}</span>,\n",
       " <span class=\"grd-font moodys\" data-value=\"{{moodys_esg}}\">{{moodys_esg}}</span>,\n",
       " <span class=\"grd-font msci\" data-value=\"{{msci_esg}}\">{{msci_esg}}</span>,\n",
       " <span class=\"grd-font sp\" data-value=\"{{sp_esg}}\">{{sp_esg}}</span>,\n",
       " <span class=\"rpt-icon rpt{{rpt_yn}}\"></span>,\n",
       " <span class=\"icon\"></span>,\n",
       " <span>한국거래소(KRX)</span>,\n",
       " <span>사회책임투자채권</span>,\n",
       " <span>상장공시시스템(KIND)</span>,\n",
       " <span class=\"logo\"></span>,\n",
       " <span>본사 : 48400 부산광역시 남구 문현금융로 40(문현동)</span>,\n",
       " <span>TEL : 051-662-2000</span>,\n",
       " <span>사업자 등록번호 : 602-81-35420</span>,\n",
       " <span>금융서비스업 대표자 : 손병두</span>,\n",
       " <span>서울 : 07329 서울특별시 영등포구 여의나루로 76(여의도동)</span>,\n",
       " <span>TEL : 1577-0088 / 02-3774-9000</span>,\n",
       " <span>통신판매신고 부산남구 .0036호</span>]"
      ]
     },
     "execution_count": 20,
     "metadata": {},
     "output_type": "execute_result"
    }
   ],
   "source": [
    "data_list"
   ]
  },
  {
   "cell_type": "code",
   "execution_count": 18,
   "metadata": {},
   "outputs": [
    {
     "data": {
      "text/plain": [
       "['{{com_abbrv}}{{yy}}{{key1}}{{key2}}',\n",
       " 'KCGS{{kcgs_esg}}',\n",
       " '환경{{kcgs_env}}',\n",
       " '사회{{kcgs_soc}}',\n",
       " '지배구조{{kcgs_gov}}',\n",
       " '한국ESG 연구소{{kesg_esg}}',\n",
       " \"Moody's{{moodys_esg}}\",\n",
       " 'MSCI{{msci_esg}}',\n",
       " 'S&P{{sp_esg}}',\n",
       " '',\n",
       " '지속가능경영보고서 공시 여부',\n",
       " 'KCGS',\n",
       " 'S, A+, A, B+, B, C, D',\n",
       " '한국ESG연구소',\n",
       " 'S, A+, A, B+, B, C, D',\n",
       " \"Moody's\",\n",
       " 'Advanced(60점 이상), Robust(50~59점), Limited(30~49점), Weak(29점 이하)',\n",
       " 'MSCI',\n",
       " 'AAA, AA, A, BBB, BB, B, CCC',\n",
       " 'S&P',\n",
       " '100~0']"
      ]
     },
     "execution_count": 18,
     "metadata": {},
     "output_type": "execute_result"
    }
   ],
   "source": [
    "_list = []\n",
    "for i in data_list :\n",
    "    x = i.get_text()\n",
    "    x = x.replace(\"\\n\", '')\n",
    "    x = x.strip('\\t')\n",
    "    _list.append(x)\n",
    "_list"
   ]
  },
  {
   "attachments": {},
   "cell_type": "markdown",
   "metadata": {},
   "source": [
    "> 다시!"
   ]
  },
  {
   "cell_type": "code",
   "execution_count": null,
   "metadata": {},
   "outputs": [],
   "source": [
    "url = \"https://esg.krx.co.kr/contents/02/02020000/ESG02020000.jsp\"\n",
    "res = requests.get(url)\n",
    "res.raise_for_status()\n",
    "\n",
    "soup = BeautifulSoup(res.text, \"lxml\") "
   ]
  },
  {
   "cell_type": "code",
   "execution_count": null,
   "metadata": {},
   "outputs": [],
   "source": [
    "soup.find(\"\")"
   ]
  },
  {
   "cell_type": "code",
   "execution_count": 35,
   "metadata": {},
   "outputs": [],
   "source": [
    "df= pd.DataFrame()"
   ]
  },
  {
   "cell_type": "code",
   "execution_count": 4,
   "metadata": {},
   "outputs": [
    {
     "data": {
      "text/html": [
       "<div>\n",
       "<style scoped>\n",
       "    .dataframe tbody tr th:only-of-type {\n",
       "        vertical-align: middle;\n",
       "    }\n",
       "\n",
       "    .dataframe tbody tr th {\n",
       "        vertical-align: top;\n",
       "    }\n",
       "\n",
       "    .dataframe thead th {\n",
       "        text-align: right;\n",
       "    }\n",
       "</style>\n",
       "<table border=\"1\" class=\"dataframe\">\n",
       "  <thead>\n",
       "    <tr style=\"text-align: right;\">\n",
       "      <th></th>\n",
       "      <th>기업명</th>\n",
       "      <th>기업코드</th>\n",
       "      <th>ESG등급</th>\n",
       "      <th>환경</th>\n",
       "      <th>사회</th>\n",
       "      <th>지배구조</th>\n",
       "      <th>평가년도</th>\n",
       "    </tr>\n",
       "  </thead>\n",
       "  <tbody>\n",
       "    <tr>\n",
       "      <th>0</th>\n",
       "      <td>AJ네트웍스</td>\n",
       "      <td>95570</td>\n",
       "      <td>B+</td>\n",
       "      <td>C</td>\n",
       "      <td>B+</td>\n",
       "      <td>B+</td>\n",
       "      <td>2022</td>\n",
       "    </tr>\n",
       "    <tr>\n",
       "      <th>1</th>\n",
       "      <td>AK홀딩스</td>\n",
       "      <td>6840</td>\n",
       "      <td>B+</td>\n",
       "      <td>B</td>\n",
       "      <td>A</td>\n",
       "      <td>B</td>\n",
       "      <td>2022</td>\n",
       "    </tr>\n",
       "    <tr>\n",
       "      <th>2</th>\n",
       "      <td>AP시스템</td>\n",
       "      <td>265520</td>\n",
       "      <td>D</td>\n",
       "      <td>D</td>\n",
       "      <td>C</td>\n",
       "      <td>C</td>\n",
       "      <td>2022</td>\n",
       "    </tr>\n",
       "    <tr>\n",
       "      <th>3</th>\n",
       "      <td>BGF</td>\n",
       "      <td>27410</td>\n",
       "      <td>B+</td>\n",
       "      <td>A</td>\n",
       "      <td>A+</td>\n",
       "      <td>B</td>\n",
       "      <td>2022</td>\n",
       "    </tr>\n",
       "    <tr>\n",
       "      <th>4</th>\n",
       "      <td>BGF리테일</td>\n",
       "      <td>282330</td>\n",
       "      <td>A</td>\n",
       "      <td>A</td>\n",
       "      <td>A+</td>\n",
       "      <td>A</td>\n",
       "      <td>2022</td>\n",
       "    </tr>\n",
       "    <tr>\n",
       "      <th>...</th>\n",
       "      <td>...</td>\n",
       "      <td>...</td>\n",
       "      <td>...</td>\n",
       "      <td>...</td>\n",
       "      <td>...</td>\n",
       "      <td>...</td>\n",
       "      <td>...</td>\n",
       "    </tr>\n",
       "    <tr>\n",
       "      <th>1000</th>\n",
       "      <td>현대홈쇼핑</td>\n",
       "      <td>57050</td>\n",
       "      <td>A</td>\n",
       "      <td>A</td>\n",
       "      <td>A+</td>\n",
       "      <td>A</td>\n",
       "      <td>2022</td>\n",
       "    </tr>\n",
       "    <tr>\n",
       "      <th>1001</th>\n",
       "      <td>형지엘리트</td>\n",
       "      <td>93240</td>\n",
       "      <td>D</td>\n",
       "      <td>D</td>\n",
       "      <td>C</td>\n",
       "      <td>D</td>\n",
       "      <td>2022</td>\n",
       "    </tr>\n",
       "    <tr>\n",
       "      <th>1002</th>\n",
       "      <td>혜인</td>\n",
       "      <td>3010</td>\n",
       "      <td>D</td>\n",
       "      <td>D</td>\n",
       "      <td>D</td>\n",
       "      <td>D</td>\n",
       "      <td>2022</td>\n",
       "    </tr>\n",
       "    <tr>\n",
       "      <th>1003</th>\n",
       "      <td>호전실업</td>\n",
       "      <td>111110</td>\n",
       "      <td>D</td>\n",
       "      <td>D</td>\n",
       "      <td>D</td>\n",
       "      <td>C</td>\n",
       "      <td>2022</td>\n",
       "    </tr>\n",
       "    <tr>\n",
       "      <th>1004</th>\n",
       "      <td>호텔신라</td>\n",
       "      <td>8770</td>\n",
       "      <td>A</td>\n",
       "      <td>B+</td>\n",
       "      <td>A</td>\n",
       "      <td>A</td>\n",
       "      <td>2022</td>\n",
       "    </tr>\n",
       "  </tbody>\n",
       "</table>\n",
       "<p>1005 rows × 7 columns</p>\n",
       "</div>"
      ],
      "text/plain": [
       "         기업명    기업코드 ESG등급  환경  사회 지배구조  평가년도\n",
       "0     AJ네트웍스   95570    B+   C  B+   B+  2022\n",
       "1      AK홀딩스    6840    B+   B   A    B  2022\n",
       "2      AP시스템  265520     D   D   C    C  2022\n",
       "3        BGF   27410    B+   A  A+    B  2022\n",
       "4     BGF리테일  282330     A   A  A+    A  2022\n",
       "...      ...     ...   ...  ..  ..  ...   ...\n",
       "1000   현대홈쇼핑   57050     A   A  A+    A  2022\n",
       "1001   형지엘리트   93240     D   D   C    D  2022\n",
       "1002      혜인    3010     D   D   D    D  2022\n",
       "1003    호전실업  111110     D   D   D    C  2022\n",
       "1004    호텔신라    8770     A  B+   A    A  2022\n",
       "\n",
       "[1005 rows x 7 columns]"
      ]
     },
     "execution_count": 4,
     "metadata": {},
     "output_type": "execute_result"
    }
   ],
   "source": [
    "pd.read_csv('../data/ESGdata/개별 ESG 데이터/2022.csv')"
   ]
  },
  {
   "cell_type": "code",
   "execution_count": null,
   "metadata": {},
   "outputs": [],
   "source": []
  }
 ],
 "metadata": {
  "kernelspec": {
   "display_name": "Python 3",
   "language": "python",
   "name": "python3"
  },
  "language_info": {
   "codemirror_mode": {
    "name": "ipython",
    "version": 3
   },
   "file_extension": ".py",
   "mimetype": "text/x-python",
   "name": "python",
   "nbconvert_exporter": "python",
   "pygments_lexer": "ipython3",
   "version": "3.10.9"
  },
  "orig_nbformat": 4
 },
 "nbformat": 4,
 "nbformat_minor": 2
}
