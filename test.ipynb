{
 "cells": [
  {
   "cell_type": "code",
   "execution_count": null,
   "metadata": {},
   "outputs": [],
   "source": [
    "data = soup.find_all('span')  # 크롤링한 데이터\n",
    "text_list = [item.text for item in data]  # 텍스트 추출\n",
    "print(text_list)"
   ]
  },
  {
   "cell_type": "code",
   "execution_count": 1,
   "metadata": {},
   "outputs": [],
   "source": [
    "import pandas as pd"
   ]
  },
  {
   "cell_type": "code",
   "execution_count": 3,
   "metadata": {},
   "outputs": [],
   "source": [
    "import requests\n",
    "from bs4 import BeautifulSoup"
   ]
  },
  {
   "cell_type": "code",
   "execution_count": 4,
   "metadata": {},
   "outputs": [],
   "source": [
    "url = \"https://esg.krx.co.kr/contents/02/02020000/ESG02020000.jsp\"\n",
    "response = requests.get(url)\n",
    "\n",
    "soup = BeautifulSoup(response.text, 'html.parser')"
   ]
  },
  {
   "cell_type": "code",
   "execution_count": null,
   "metadata": {},
   "outputs": [],
   "source": [
    "soup = BeautifulSoup(response.text, \"lxml\")\n",
    "cartoonsBox = soup.find('ol', attrs={\"data-value\": \"\"}) # 전체 영역에서 'a' 태그를 찾지 않고 인기 급상승 영역으로 범위 제한\n",
    "cartoons = cartoonsBox.find_all('a') # 인기 급상승 영역에서 'a'태그 모두 찾아 변수 cartoons에 할당"
   ]
  },
  {
   "cell_type": "code",
   "execution_count": 19,
   "metadata": {},
   "outputs": [],
   "source": [
    "data_list = soup.find_all('name')"
   ]
  },
  {
   "cell_type": "code",
   "execution_count": 20,
   "metadata": {},
   "outputs": [
    {
     "data": {
      "text/plain": [
       "[<span class=\"icon\"></span>,\n",
       " <span class=\"logo\" onclick=\"$.movePage('/');\"></span>,\n",
       " <span class=\"title\">\n",
       " <a href=\"/index.jsp\"></a>\n",
       " </span>,\n",
       " <span>ESG 소개</span>,\n",
       " <span>ESG 기업정보</span>,\n",
       " <span>ESG 통계</span>,\n",
       " <span>ESG 뉴스</span>,\n",
       " <span>자료실</span>,\n",
       " <span class=\"icon\"></span>,\n",
       " <span class=\"link\"></span>,\n",
       " <span class=\"icon\"></span>,\n",
       " <span class=\"pc_vw2\">· KCGS</span>,\n",
       " <span class=\"icon\" onclick=\"$.layer_popup('#layer-noti-kcgs'); return false;\">법적고지<i></i></span>,\n",
       " <span class=\"text\">ESG 평가문의(esg@cgs.or.kr), <br class=\"mo_vw2\"/>등급 활용(esgdata@cgs.or.kr)</span>,\n",
       " <span class=\"pc_vw2\">· 한국 ESG 연구소</span>,\n",
       " <span class=\"icon\" onclick=\"$.layer_popup('#layer-noti-kesg'); return false;\">법적고지<i></i></span>,\n",
       " <span class=\"text\">kresg@kesgresearch.com</span>,\n",
       " <span class=\"pc_vw2\">· Moody's</span>,\n",
       " <span class=\"icon\" onclick=\"$.layer_popup('#layer-noti-moodys'); return false;\">법적고지<i></i></span>,\n",
       " <span class=\"text\">clientservices@moodys.com</span>,\n",
       " <span class=\"pc_vw2\">· MSCI</span>,\n",
       " <span class=\"icon\" onclick=\"$.layer_popup('#layer-noti-msci'); return false;\">법적고지<i></i></span>,\n",
       " <span class=\"text\">Seoul_esg@msci.com</span>,\n",
       " <span class=\"pc_vw2\">· S&amp;P</span>,\n",
       " <span class=\"icon\" onclick=\"$.layer_popup('#layer-noti-sp'); return false;\">법적고지<i></i></span>,\n",
       " <span class=\"text\">Support.ciq@spglobal.com</span>,\n",
       " <span class=\"pc_vw2\">· 지속가능발전소</span>,\n",
       " <span class=\"icon\" onclick=\"$.layer_popup('#layer-noti-news'); return false;\">법적고지<i></i></span>,\n",
       " <span class=\"text\">info@whosgood.org</span>,\n",
       " <span class=\"btn-layerClose\"></span>,\n",
       " <span class=\"btn-layerClose\"></span>,\n",
       " <span class=\"btn-layerClose\"></span>,\n",
       " <span class=\"btn-layerClose\"></span>,\n",
       " <span class=\"btn-layerClose\"></span>,\n",
       " <span class=\"btn-layerClose\"></span>,\n",
       " <span></span>,\n",
       " <span class=\"loading\"></span>,\n",
       " <span class=\"mo_vw2 year\">{{yy}}</span>,\n",
       " <span class=\"icobox\">\n",
       " <i alt=\"icon\" class=\"use{{key1}}\"></i>\n",
       " <i alt=\"icon\" class=\"use{{key2}}\"></i>\n",
       " <!-- 위 use~key1 key2 정상동작을 위해 필요 -->\n",
       " <span class=\"dpn\">{{key1}}</span>\n",
       " <span class=\"dpn\">{{key2}}</span>\n",
       " </span>,\n",
       " <span class=\"dpn\">{{key1}}</span>,\n",
       " <span class=\"dpn\">{{key2}}</span>,\n",
       " <span class=\"grd-font kcgs kcgsB\" data-value=\"{{kcgs_esg}}\">{{kcgs_esg}}</span>,\n",
       " <span class=\"grd-font kcgs\" data-value=\"{{kcgs_env}}\">{{kcgs_env}}</span>,\n",
       " <span class=\"grd-font kcgs\" data-value=\"{{kcgs_soc}}\">{{kcgs_soc}}</span>,\n",
       " <span class=\"grd-font kcgs\" data-value=\"{{kcgs_gov}}\">{{kcgs_gov}}</span>,\n",
       " <span class=\"grd-font kesg\" data-value=\"{{kesg_esg}}\">{{kesg_esg}}</span>,\n",
       " <span class=\"grd-font moodys\" data-value=\"{{moodys_esg}}\">{{moodys_esg}}</span>,\n",
       " <span class=\"grd-font msci\" data-value=\"{{msci_esg}}\">{{msci_esg}}</span>,\n",
       " <span class=\"grd-font sp\" data-value=\"{{sp_esg}}\">{{sp_esg}}</span>,\n",
       " <span class=\"rpt-icon rpt{{rpt_yn}}\"></span>,\n",
       " <span class=\"icon\"></span>,\n",
       " <span>한국거래소(KRX)</span>,\n",
       " <span>사회책임투자채권</span>,\n",
       " <span>상장공시시스템(KIND)</span>,\n",
       " <span class=\"logo\"></span>,\n",
       " <span>본사 : 48400 부산광역시 남구 문현금융로 40(문현동)</span>,\n",
       " <span>TEL : 051-662-2000</span>,\n",
       " <span>사업자 등록번호 : 602-81-35420</span>,\n",
       " <span>금융서비스업 대표자 : 손병두</span>,\n",
       " <span>서울 : 07329 서울특별시 영등포구 여의나루로 76(여의도동)</span>,\n",
       " <span>TEL : 1577-0088 / 02-3774-9000</span>,\n",
       " <span>통신판매신고 부산남구 .0036호</span>]"
      ]
     },
     "execution_count": 20,
     "metadata": {},
     "output_type": "execute_result"
    }
   ],
   "source": [
    "data_list"
   ]
  },
  {
   "cell_type": "code",
   "execution_count": 18,
   "metadata": {},
   "outputs": [
    {
     "data": {
      "text/plain": [
       "['{{com_abbrv}}{{yy}}{{key1}}{{key2}}',\n",
       " 'KCGS{{kcgs_esg}}',\n",
       " '환경{{kcgs_env}}',\n",
       " '사회{{kcgs_soc}}',\n",
       " '지배구조{{kcgs_gov}}',\n",
       " '한국ESG 연구소{{kesg_esg}}',\n",
       " \"Moody's{{moodys_esg}}\",\n",
       " 'MSCI{{msci_esg}}',\n",
       " 'S&P{{sp_esg}}',\n",
       " '',\n",
       " '지속가능경영보고서 공시 여부',\n",
       " 'KCGS',\n",
       " 'S, A+, A, B+, B, C, D',\n",
       " '한국ESG연구소',\n",
       " 'S, A+, A, B+, B, C, D',\n",
       " \"Moody's\",\n",
       " 'Advanced(60점 이상), Robust(50~59점), Limited(30~49점), Weak(29점 이하)',\n",
       " 'MSCI',\n",
       " 'AAA, AA, A, BBB, BB, B, CCC',\n",
       " 'S&P',\n",
       " '100~0']"
      ]
     },
     "execution_count": 18,
     "metadata": {},
     "output_type": "execute_result"
    }
   ],
   "source": [
    "_list = []\n",
    "for i in data_list :\n",
    "    x = i.get_text()\n",
    "    x = x.replace(\"\\n\", '')\n",
    "    x = x.strip('\\t')\n",
    "    _list.append(x)\n",
    "_list"
   ]
  },
  {
   "attachments": {},
   "cell_type": "markdown",
   "metadata": {},
   "source": [
    "> 다시!"
   ]
  },
  {
   "cell_type": "code",
   "execution_count": null,
   "metadata": {},
   "outputs": [],
   "source": [
    "url = \"https://esg.krx.co.kr/contents/02/02020000/ESG02020000.jsp\"\n",
    "res = requests.get(url)\n",
    "res.raise_for_status()\n",
    "\n",
    "soup = BeautifulSoup(res.text, \"lxml\") "
   ]
  },
  {
   "cell_type": "code",
   "execution_count": null,
   "metadata": {},
   "outputs": [],
   "source": [
    "soup.find(\"\")"
   ]
  },
  {
   "cell_type": "code",
   "execution_count": 35,
   "metadata": {},
   "outputs": [],
   "source": [
    "df= pd.DataFrame()"
   ]
  },
  {
   "cell_type": "code",
   "execution_count": null,
   "metadata": {},
   "outputs": [],
   "source": []
  }
 ],
 "metadata": {
  "kernelspec": {
   "display_name": "Python 3",
   "language": "python",
   "name": "python3"
  },
  "language_info": {
   "codemirror_mode": {
    "name": "ipython",
    "version": 3
   },
   "file_extension": ".py",
   "mimetype": "text/x-python",
   "name": "python",
   "nbconvert_exporter": "python",
   "pygments_lexer": "ipython3",
   "version": "3.10.9"
  },
  "orig_nbformat": 4
 },
 "nbformat": 4,
 "nbformat_minor": 2
}
