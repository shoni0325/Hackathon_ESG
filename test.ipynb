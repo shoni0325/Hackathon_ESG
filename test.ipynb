{
 "cells": [
  {
   "cell_type": "code",
   "execution_count": 1,
   "metadata": {},
   "outputs": [],
   "source": [
    "import pandas as pd"
   ]
  },
  {
   "cell_type": "code",
   "execution_count": 3,
   "metadata": {},
   "outputs": [],
   "source": [
    "import requests\n",
    "from bs4 import BeautifulSoup"
   ]
  },
  {
   "cell_type": "code",
   "execution_count": 4,
   "metadata": {},
   "outputs": [],
   "source": [
    "url = \"https://esg.krx.co.kr/contents/02/02020000/ESG02020000.jsp\"\n",
    "response = requests.get(url)\n",
    "\n",
    "soup = BeautifulSoup(response.text, 'html.parser')"
   ]
  },
  {
   "cell_type": "code",
   "execution_count": 5,
   "metadata": {},
   "outputs": [],
   "source": [
    "data = soup.find_all('tbody')"
   ]
  },
  {
   "cell_type": "code",
   "execution_count": 7,
   "metadata": {},
   "outputs": [
    {
     "name": "stdout",
     "output_type": "stream",
     "text": [
      "[\"\\n\\n{{com_abbrv}}\\n{{yy}}\\n\\n\\n\\n\\n{{key1}}\\n{{key2}}\\n\\n\\n\\nKCGS\\n{{kcgs_esg}}\\n\\n\\n환경\\n{{kcgs_env}}\\n\\n\\n사회\\n{{kcgs_soc}}\\n\\n\\n지배구조\\n{{kcgs_gov}}\\n\\n\\n한국ESG 연구소\\n{{kesg_esg}}\\n\\n\\nMoody's\\n{{moodys_esg}}\\n\\n\\nMSCI\\n{{msci_esg}}\\n\\n\\nS&P\\n{{sp_esg}}\\n\\n\\n\\n지속가능경영보고서 공시 여부\\n\\n\\n\", \"\\n\\nKCGS\\nS, A+, A, B+, B, C, D\\n\\n\\n한국ESG연구소\\nS, A+, A, B+, B, C, D\\n\\n\\nMoody's\\nAdvanced(60점 이상), Robust(50~59점), Limited(30~49점), Weak(29점 이하)\\n\\n\\nMSCI\\nAAA, AA, A, BBB, BB, B, CCC\\n\\n\\nS&P\\n100~0\\n\\n\"]\n"
     ]
    }
   ],
   "source": [
    "data = soup.find_all('tbody')  # 크롤링한 데이터\n",
    "text_list = [item.text for item in data]  # 텍스트 추출\n",
    "print(text_list)"
   ]
  },
  {
   "cell_type": "code",
   "execution_count": null,
   "metadata": {},
   "outputs": [],
   "source": []
  }
 ],
 "metadata": {
  "kernelspec": {
   "display_name": "Python 3",
   "language": "python",
   "name": "python3"
  },
  "language_info": {
   "codemirror_mode": {
    "name": "ipython",
    "version": 3
   },
   "file_extension": ".py",
   "mimetype": "text/x-python",
   "name": "python",
   "nbconvert_exporter": "python",
   "pygments_lexer": "ipython3",
   "version": "3.10.9"
  },
  "orig_nbformat": 4
 },
 "nbformat": 4,
 "nbformat_minor": 2
}
