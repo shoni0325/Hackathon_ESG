{
 "cells": [
  {
   "cell_type": "code",
   "execution_count": 9,
   "metadata": {},
   "outputs": [],
   "source": [
    "import pandas as pd"
   ]
  },
  {
   "cell_type": "code",
   "execution_count": 10,
   "metadata": {},
   "outputs": [],
   "source": [
    "df_2011=pd.read_csv('./OO_origin/Origin_11.csv',index_col='종목명')\n",
    "df_list=df_2011.index.to_list()\n",
    "\n",
    "a=pd.read_csv('./2011data연결.csv',encoding='euc-kr')\n",
    "a['회사명']=a['회사명'].apply(lambda x: x.replace('(주)',''))\n",
    "\n",
    "b=pd.read_csv('./2011.csv',encoding='euc-kr')\n",
    "b['회사명']=b['회사명'].apply(lambda x: x.replace('(주)',''))\n",
    "\n",
    "alist=a['회사명'].to_list()"
   ]
  },
  {
   "cell_type": "code",
   "execution_count": 11,
   "metadata": {},
   "outputs": [
    {
     "data": {
      "text/plain": [
       "329"
      ]
     },
     "execution_count": 11,
     "metadata": {},
     "output_type": "execute_result"
    }
   ],
   "source": [
    "set1=set(df_list)\n",
    "set2=set(alist)\n",
    "common_values = list(set1 & set2)\n",
    "len(common_values)"
   ]
  },
  {
   "cell_type": "code",
   "execution_count": 12,
   "metadata": {},
   "outputs": [],
   "source": [
    "a=a.set_index('회사명').loc[common_values].sort_index()"
   ]
  },
  {
   "cell_type": "code",
   "execution_count": 13,
   "metadata": {},
   "outputs": [],
   "source": [
    "b=b.set_index('회사명').loc[common_values].sort_index()"
   ]
  },
  {
   "cell_type": "code",
   "execution_count": 23,
   "metadata": {},
   "outputs": [
    {
     "data": {
      "text/plain": [
       "거래소코드                               0\n",
       "회계년도                                0\n",
       "자산(*)(IFRS)(천원)                     0\n",
       "배당금(*)(IFRS)(천원)                    0\n",
       "부채비율(IFRS)                          0\n",
       "타인자본구성비율(IFRS)                      0\n",
       "자기자본구성비율(IFRS)                      0\n",
       "매출액증가율(IFRS)                        0\n",
       "영업활동으로 인한 현금흐름(간접법)(*)(IFRS)(천원)    0\n",
       "경상연구개발비(IFRS)(천원)                   0\n",
       "광고 및 판매촉진비(IFRS)(천원)                0\n",
       "* (정상)영업손익(보고서기재)(IFRS)(천원)         2\n",
       "* (정상)영업손익(계산수치)(IFRS)(천원)          0\n",
       "PBR(최고)(IFRS)                       0\n",
       "PBR(최저)(IFRS)                       0\n",
       "dtype: int64"
      ]
     },
     "execution_count": 23,
     "metadata": {},
     "output_type": "execute_result"
    }
   ],
   "source": [
    "b.isna().sum()"
   ]
  },
  {
   "cell_type": "code",
   "execution_count": 24,
   "metadata": {},
   "outputs": [
    {
     "data": {
      "text/plain": [
       "거래소코드                                  0\n",
       "회계년도                                   0\n",
       "자산(*)(IFRS연결)(천원)                     66\n",
       "[공통]   배당금(*)(요약)(IFRS)                0\n",
       "부채비율(IFRS연결)                          66\n",
       "타인자본구성비율(IFRS연결)                      66\n",
       "자기자본구성비율(IFRS연결)                      66\n",
       "매출액증가율(IFRS연결)                        66\n",
       "영업활동으로 인한 현금흐름(간접법)(*)(IFRS연결)(천원)    66\n",
       "경상연구개발비(IFRS연결)(천원)                   66\n",
       "광고 및 판매촉진비(IFRS연결)(천원)                66\n",
       "* (정상)영업손익(보고서기재)(IFRS연결)(천원)         67\n",
       "* (정상)영업손익(계산수치)(IFRS연결)(천원)          66\n",
       "[공통]PBR(최고)(IFRS)                      0\n",
       "[공통]PBR(최저)(IFRS)                      0\n",
       "dtype: int64"
      ]
     },
     "execution_count": 24,
     "metadata": {},
     "output_type": "execute_result"
    }
   ],
   "source": [
    "a.fillna(value=b).isna().sum()\n"
   ]
  },
  {
   "cell_type": "code",
   "execution_count": null,
   "metadata": {},
   "outputs": [],
   "source": []
  }
 ],
 "metadata": {
  "kernelspec": {
   "display_name": "Python 3",
   "language": "python",
   "name": "python3"
  },
  "language_info": {
   "codemirror_mode": {
    "name": "ipython",
    "version": 3
   },
   "file_extension": ".py",
   "mimetype": "text/x-python",
   "name": "python",
   "nbconvert_exporter": "python",
   "pygments_lexer": "ipython3",
   "version": "3.10.9"
  },
  "orig_nbformat": 4
 },
 "nbformat": 4,
 "nbformat_minor": 2
}
